{
 "cells": [
  {
   "cell_type": "markdown",
   "metadata": {},
   "source": [
    "# Training and validation with PyRadiomics Features"
   ]
  },
  {
   "cell_type": "markdown",
   "metadata": {},
   "source": [
    "### Imports"
   ]
  },
  {
   "cell_type": "code",
   "execution_count": 3,
   "metadata": {
    "collapsed": true
   },
   "outputs": [],
   "source": [
    "from __future__ import print_function\n",
    "import six\n",
    "import os  # needed navigate the system to get the input data\n",
    "import pandas as pd\n",
    "from pathlib import Path\n",
    "import xgboost\n",
    "from pycaret.classification import *"
   ]
  },
  {
   "cell_type": "code",
   "execution_count": 4,
   "metadata": {},
   "outputs": [],
   "source": [
    "%matplotlib inline\n",
    "%config InlineBackend.figure_format = 'retina' #or 'retina'. Makes the images more clear\n",
    "import matplotlib.pyplot as plt"
   ]
  },
  {
   "cell_type": "code",
   "execution_count": 5,
   "metadata": {},
   "outputs": [],
   "source": [
    "# params_file = 'default_params'\n",
    "params_file = 'params_1.pkl'"
   ]
  },
  {
   "cell_type": "markdown",
   "metadata": {},
   "source": [
    "### Load features dataset"
   ]
  },
  {
   "cell_type": "code",
   "execution_count": 6,
   "metadata": {},
   "outputs": [
    {
     "name": "stdout",
     "output_type": "stream",
     "text": [
      "(200, 1215)\n",
      "(199, 1214)\n"
     ]
    }
   ],
   "source": [
    "# Location of feature dataset\n",
    "dataset_folder = Path(os.getcwd()+'/dataset')\n",
    "feature_dataset_filename = dataset_folder/Path('features')/Path(params_file)\n",
    "df = pd.read_pickle(feature_dataset_filename)\n",
    "print(df.shape)\n",
    "\n",
    "df = df.drop('BraTS_MET_ID', axis=1)\n",
    "df = df.dropna(axis=0, subset=['Death'])\n",
    "# df[\"Death\"] = df[\"Death\"].astype(bool)\n",
    "df[\"Death\"] = df[\"Death\"].astype(int)\n",
    "print(df.shape)"
   ]
  },
  {
   "cell_type": "markdown",
   "metadata": {},
   "source": [
    "#### Load model"
   ]
  },
  {
   "cell_type": "code",
   "execution_count": 7,
   "metadata": {},
   "outputs": [
    {
     "name": "stdout",
     "output_type": "stream",
     "text": [
      "Transformation Pipeline and Model Successfully Loaded\n"
     ]
    }
   ],
   "source": [
    "session_name = 'blender-lightgbm-catboost-xgboost'\n",
    "models_folder = Path(os.getcwd()+'/models')\n",
    "\n",
    "session_folder = models_folder/session_name\n",
    "\n",
    "# Load train datasets\n",
    "X_train = pd.read_pickle(session_folder/'X_train.pkl')\n",
    "X_train_transformed = pd.read_pickle(session_folder/'X_train_transformed.pkl')\n",
    "\n",
    "# Load test datasets\n",
    "X_test = pd.read_pickle(session_folder/'X_test.pkl')\n",
    "X_test_transformed = pd.read_pickle(session_folder/'X_test_transformed.pkl')\n",
    "\n",
    "# Load the model pipeline to a pickle file\n",
    "best = load_model(rf'{session_folder}/model_{session_name}')"
   ]
  },
  {
   "cell_type": "code",
   "execution_count": 22,
   "metadata": {},
   "outputs": [
    {
     "data": {
      "text/html": [
       "<style type=\"text/css\">\n",
       "#T_e9610_row10_col1, #T_e9610_row16_col1, #T_e9610_row18_col1, #T_e9610_row20_col1 {\n",
       "  background-color: lightgreen;\n",
       "}\n",
       "</style>\n",
       "<table id=\"T_e9610\">\n",
       "  <thead>\n",
       "    <tr>\n",
       "      <th class=\"blank level0\" >&nbsp;</th>\n",
       "      <th id=\"T_e9610_level0_col0\" class=\"col_heading level0 col0\" >Description</th>\n",
       "      <th id=\"T_e9610_level0_col1\" class=\"col_heading level0 col1\" >Value</th>\n",
       "    </tr>\n",
       "  </thead>\n",
       "  <tbody>\n",
       "    <tr>\n",
       "      <th id=\"T_e9610_level0_row0\" class=\"row_heading level0 row0\" >0</th>\n",
       "      <td id=\"T_e9610_row0_col0\" class=\"data row0 col0\" >Session id</td>\n",
       "      <td id=\"T_e9610_row0_col1\" class=\"data row0 col1\" >5497</td>\n",
       "    </tr>\n",
       "    <tr>\n",
       "      <th id=\"T_e9610_level0_row1\" class=\"row_heading level0 row1\" >1</th>\n",
       "      <td id=\"T_e9610_row1_col0\" class=\"data row1 col0\" >Target</td>\n",
       "      <td id=\"T_e9610_row1_col1\" class=\"data row1 col1\" >Death</td>\n",
       "    </tr>\n",
       "    <tr>\n",
       "      <th id=\"T_e9610_level0_row2\" class=\"row_heading level0 row2\" >2</th>\n",
       "      <td id=\"T_e9610_row2_col0\" class=\"data row2 col0\" >Target type</td>\n",
       "      <td id=\"T_e9610_row2_col1\" class=\"data row2 col1\" >Binary</td>\n",
       "    </tr>\n",
       "    <tr>\n",
       "      <th id=\"T_e9610_level0_row3\" class=\"row_heading level0 row3\" >3</th>\n",
       "      <td id=\"T_e9610_row3_col0\" class=\"data row3 col0\" >Original data shape</td>\n",
       "      <td id=\"T_e9610_row3_col1\" class=\"data row3 col1\" >(199, 1214)</td>\n",
       "    </tr>\n",
       "    <tr>\n",
       "      <th id=\"T_e9610_level0_row4\" class=\"row_heading level0 row4\" >4</th>\n",
       "      <td id=\"T_e9610_row4_col0\" class=\"data row4 col0\" >Transformed data shape</td>\n",
       "      <td id=\"T_e9610_row4_col1\" class=\"data row4 col1\" >(191, 259)</td>\n",
       "    </tr>\n",
       "    <tr>\n",
       "      <th id=\"T_e9610_level0_row5\" class=\"row_heading level0 row5\" >5</th>\n",
       "      <td id=\"T_e9610_row5_col0\" class=\"data row5 col0\" >Transformed train set shape</td>\n",
       "      <td id=\"T_e9610_row5_col1\" class=\"data row5 col1\" >(151, 259)</td>\n",
       "    </tr>\n",
       "    <tr>\n",
       "      <th id=\"T_e9610_level0_row6\" class=\"row_heading level0 row6\" >6</th>\n",
       "      <td id=\"T_e9610_row6_col0\" class=\"data row6 col0\" >Transformed test set shape</td>\n",
       "      <td id=\"T_e9610_row6_col1\" class=\"data row6 col1\" >(40, 259)</td>\n",
       "    </tr>\n",
       "    <tr>\n",
       "      <th id=\"T_e9610_level0_row7\" class=\"row_heading level0 row7\" >7</th>\n",
       "      <td id=\"T_e9610_row7_col0\" class=\"data row7 col0\" >Numeric features</td>\n",
       "      <td id=\"T_e9610_row7_col1\" class=\"data row7 col1\" >1212</td>\n",
       "    </tr>\n",
       "    <tr>\n",
       "      <th id=\"T_e9610_level0_row8\" class=\"row_heading level0 row8\" >8</th>\n",
       "      <td id=\"T_e9610_row8_col0\" class=\"data row8 col0\" >Categorical features</td>\n",
       "      <td id=\"T_e9610_row8_col1\" class=\"data row8 col1\" >1</td>\n",
       "    </tr>\n",
       "    <tr>\n",
       "      <th id=\"T_e9610_level0_row9\" class=\"row_heading level0 row9\" >9</th>\n",
       "      <td id=\"T_e9610_row9_col0\" class=\"data row9 col0\" >Rows with missing values</td>\n",
       "      <td id=\"T_e9610_row9_col1\" class=\"data row9 col1\" >21.6%</td>\n",
       "    </tr>\n",
       "    <tr>\n",
       "      <th id=\"T_e9610_level0_row10\" class=\"row_heading level0 row10\" >10</th>\n",
       "      <td id=\"T_e9610_row10_col0\" class=\"data row10 col0\" >Preprocess</td>\n",
       "      <td id=\"T_e9610_row10_col1\" class=\"data row10 col1\" >True</td>\n",
       "    </tr>\n",
       "    <tr>\n",
       "      <th id=\"T_e9610_level0_row11\" class=\"row_heading level0 row11\" >11</th>\n",
       "      <td id=\"T_e9610_row11_col0\" class=\"data row11 col0\" >Imputation type</td>\n",
       "      <td id=\"T_e9610_row11_col1\" class=\"data row11 col1\" >simple</td>\n",
       "    </tr>\n",
       "    <tr>\n",
       "      <th id=\"T_e9610_level0_row12\" class=\"row_heading level0 row12\" >12</th>\n",
       "      <td id=\"T_e9610_row12_col0\" class=\"data row12 col0\" >Numeric imputation</td>\n",
       "      <td id=\"T_e9610_row12_col1\" class=\"data row12 col1\" >mean</td>\n",
       "    </tr>\n",
       "    <tr>\n",
       "      <th id=\"T_e9610_level0_row13\" class=\"row_heading level0 row13\" >13</th>\n",
       "      <td id=\"T_e9610_row13_col0\" class=\"data row13 col0\" >Categorical imputation</td>\n",
       "      <td id=\"T_e9610_row13_col1\" class=\"data row13 col1\" >mode</td>\n",
       "    </tr>\n",
       "    <tr>\n",
       "      <th id=\"T_e9610_level0_row14\" class=\"row_heading level0 row14\" >14</th>\n",
       "      <td id=\"T_e9610_row14_col0\" class=\"data row14 col0\" >Maximum one-hot encoding</td>\n",
       "      <td id=\"T_e9610_row14_col1\" class=\"data row14 col1\" >25</td>\n",
       "    </tr>\n",
       "    <tr>\n",
       "      <th id=\"T_e9610_level0_row15\" class=\"row_heading level0 row15\" >15</th>\n",
       "      <td id=\"T_e9610_row15_col0\" class=\"data row15 col0\" >Encoding method</td>\n",
       "      <td id=\"T_e9610_row15_col1\" class=\"data row15 col1\" >None</td>\n",
       "    </tr>\n",
       "    <tr>\n",
       "      <th id=\"T_e9610_level0_row16\" class=\"row_heading level0 row16\" >16</th>\n",
       "      <td id=\"T_e9610_row16_col0\" class=\"data row16 col0\" >Remove multicollinearity</td>\n",
       "      <td id=\"T_e9610_row16_col1\" class=\"data row16 col1\" >True</td>\n",
       "    </tr>\n",
       "    <tr>\n",
       "      <th id=\"T_e9610_level0_row17\" class=\"row_heading level0 row17\" >17</th>\n",
       "      <td id=\"T_e9610_row17_col0\" class=\"data row17 col0\" >Multicollinearity threshold</td>\n",
       "      <td id=\"T_e9610_row17_col1\" class=\"data row17 col1\" >0.900000</td>\n",
       "    </tr>\n",
       "    <tr>\n",
       "      <th id=\"T_e9610_level0_row18\" class=\"row_heading level0 row18\" >18</th>\n",
       "      <td id=\"T_e9610_row18_col0\" class=\"data row18 col0\" >Remove outliers</td>\n",
       "      <td id=\"T_e9610_row18_col1\" class=\"data row18 col1\" >True</td>\n",
       "    </tr>\n",
       "    <tr>\n",
       "      <th id=\"T_e9610_level0_row19\" class=\"row_heading level0 row19\" >19</th>\n",
       "      <td id=\"T_e9610_row19_col0\" class=\"data row19 col0\" >Outliers threshold</td>\n",
       "      <td id=\"T_e9610_row19_col1\" class=\"data row19 col1\" >0.050000</td>\n",
       "    </tr>\n",
       "    <tr>\n",
       "      <th id=\"T_e9610_level0_row20\" class=\"row_heading level0 row20\" >20</th>\n",
       "      <td id=\"T_e9610_row20_col0\" class=\"data row20 col0\" >Normalize</td>\n",
       "      <td id=\"T_e9610_row20_col1\" class=\"data row20 col1\" >True</td>\n",
       "    </tr>\n",
       "    <tr>\n",
       "      <th id=\"T_e9610_level0_row21\" class=\"row_heading level0 row21\" >21</th>\n",
       "      <td id=\"T_e9610_row21_col0\" class=\"data row21 col0\" >Normalize method</td>\n",
       "      <td id=\"T_e9610_row21_col1\" class=\"data row21 col1\" >zscore</td>\n",
       "    </tr>\n",
       "    <tr>\n",
       "      <th id=\"T_e9610_level0_row22\" class=\"row_heading level0 row22\" >22</th>\n",
       "      <td id=\"T_e9610_row22_col0\" class=\"data row22 col0\" >Fold Generator</td>\n",
       "      <td id=\"T_e9610_row22_col1\" class=\"data row22 col1\" >StratifiedKFold</td>\n",
       "    </tr>\n",
       "    <tr>\n",
       "      <th id=\"T_e9610_level0_row23\" class=\"row_heading level0 row23\" >23</th>\n",
       "      <td id=\"T_e9610_row23_col0\" class=\"data row23 col0\" >Fold Number</td>\n",
       "      <td id=\"T_e9610_row23_col1\" class=\"data row23 col1\" >5</td>\n",
       "    </tr>\n",
       "    <tr>\n",
       "      <th id=\"T_e9610_level0_row24\" class=\"row_heading level0 row24\" >24</th>\n",
       "      <td id=\"T_e9610_row24_col0\" class=\"data row24 col0\" >CPU Jobs</td>\n",
       "      <td id=\"T_e9610_row24_col1\" class=\"data row24 col1\" >-1</td>\n",
       "    </tr>\n",
       "    <tr>\n",
       "      <th id=\"T_e9610_level0_row25\" class=\"row_heading level0 row25\" >25</th>\n",
       "      <td id=\"T_e9610_row25_col0\" class=\"data row25 col0\" >Use GPU</td>\n",
       "      <td id=\"T_e9610_row25_col1\" class=\"data row25 col1\" >False</td>\n",
       "    </tr>\n",
       "    <tr>\n",
       "      <th id=\"T_e9610_level0_row26\" class=\"row_heading level0 row26\" >26</th>\n",
       "      <td id=\"T_e9610_row26_col0\" class=\"data row26 col0\" >Log Experiment</td>\n",
       "      <td id=\"T_e9610_row26_col1\" class=\"data row26 col1\" >False</td>\n",
       "    </tr>\n",
       "    <tr>\n",
       "      <th id=\"T_e9610_level0_row27\" class=\"row_heading level0 row27\" >27</th>\n",
       "      <td id=\"T_e9610_row27_col0\" class=\"data row27 col0\" >Experiment Name</td>\n",
       "      <td id=\"T_e9610_row27_col1\" class=\"data row27 col1\" >clf-default-name</td>\n",
       "    </tr>\n",
       "    <tr>\n",
       "      <th id=\"T_e9610_level0_row28\" class=\"row_heading level0 row28\" >28</th>\n",
       "      <td id=\"T_e9610_row28_col0\" class=\"data row28 col0\" >USI</td>\n",
       "      <td id=\"T_e9610_row28_col1\" class=\"data row28 col1\" >5515</td>\n",
       "    </tr>\n",
       "  </tbody>\n",
       "</table>\n"
      ],
      "text/plain": [
       "<pandas.io.formats.style.Styler at 0x160b2a1c0>"
      ]
     },
     "metadata": {},
     "output_type": "display_data"
    }
   ],
   "source": [
    "clf = setup(data = df                 # The dataset we want to use\n",
    "   , target = 'Death'               # The feature we want to predict\n",
    "   , fold = 5                       # Number of folds for cross-validation\n",
    "   , train_size = 0.80              # Proportion of data used for training\n",
    "   , normalize = True               # Scale data to have mean = 0, std = 1\n",
    "   , remove_outliers = True         # Remove outliers\n",
    "   # , feature_selection = True       # Remove unimportant features\n",
    "   , remove_multicollinearity= True # Remove highly correlated features\n",
    ")"
   ]
  },
  {
   "cell_type": "code",
   "execution_count": 8,
   "metadata": {},
   "outputs": [
    {
     "ename": "ValueError",
     "evalue": "_CURRENT_EXPERIMENT global variable is not set. Please run setup() first.",
     "output_type": "error",
     "traceback": [
      "\u001b[0;31m---------------------------------------------------------------------------\u001b[0m",
      "\u001b[0;31mValueError\u001b[0m                                Traceback (most recent call last)",
      "Cell \u001b[0;32mIn[8], line 1\u001b[0m\n\u001b[0;32m----> 1\u001b[0m \u001b[43mevaluate_model\u001b[49m\u001b[43m(\u001b[49m\u001b[43mbest\u001b[49m\u001b[43m)\u001b[49m\n",
      "File \u001b[0;32m~/.pyenv/versions/3.8.18/envs/pyradiomics/lib/python3.8/site-packages/pycaret/utils/generic.py:964\u001b[0m, in \u001b[0;36mcheck_if_global_is_not_none.<locals>.decorator.<locals>.wrapper\u001b[0;34m(*args, **kwargs)\u001b[0m\n\u001b[1;32m    962\u001b[0m \u001b[38;5;28;01mfor\u001b[39;00m name, message \u001b[38;5;129;01min\u001b[39;00m global_names\u001b[38;5;241m.\u001b[39mitems():\n\u001b[1;32m    963\u001b[0m     \u001b[38;5;28;01mif\u001b[39;00m globals_d[name] \u001b[38;5;129;01mis\u001b[39;00m \u001b[38;5;28;01mNone\u001b[39;00m:\n\u001b[0;32m--> 964\u001b[0m         \u001b[38;5;28;01mraise\u001b[39;00m \u001b[38;5;167;01mValueError\u001b[39;00m(message)\n\u001b[1;32m    965\u001b[0m \u001b[38;5;28;01mreturn\u001b[39;00m func(\u001b[38;5;241m*\u001b[39margs, \u001b[38;5;241m*\u001b[39m\u001b[38;5;241m*\u001b[39mkwargs)\n",
      "\u001b[0;31mValueError\u001b[0m: _CURRENT_EXPERIMENT global variable is not set. Please run setup() first."
     ]
    }
   ],
   "source": [
    "evaluate_model(best)"
   ]
  },
  {
   "cell_type": "code",
   "execution_count": 2,
   "metadata": {},
   "outputs": [
    {
     "ename": "NameError",
     "evalue": "name 'best' is not defined",
     "output_type": "error",
     "traceback": [
      "\u001b[0;31m---------------------------------------------------------------------------\u001b[0m",
      "\u001b[0;31mNameError\u001b[0m                                 Traceback (most recent call last)",
      "Cell \u001b[0;32mIn[2], line 1\u001b[0m\n\u001b[0;32m----> 1\u001b[0m \u001b[43mbest\u001b[49m\u001b[38;5;241m.\u001b[39mpredict_proba(X_test_transformed)\n",
      "\u001b[0;31mNameError\u001b[0m: name 'best' is not defined"
     ]
    }
   ],
   "source": [
    "best.predict_proba(X_test_transformed)"
   ]
  }
 ],
 "metadata": {
  "kernelspec": {
   "display_name": "pyradiomics",
   "language": "python",
   "name": "python3"
  },
  "language_info": {
   "codemirror_mode": {
    "name": "ipython",
    "version": 3
   },
   "file_extension": ".py",
   "mimetype": "text/x-python",
   "name": "python",
   "nbconvert_exporter": "python",
   "pygments_lexer": "ipython3",
   "version": "3.8.18"
  }
 },
 "nbformat": 4,
 "nbformat_minor": 0
}
