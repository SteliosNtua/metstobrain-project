{
 "cells": [
  {
   "cell_type": "markdown",
   "metadata": {},
   "source": [
    "# Training and validation with PyRadiomics Features"
   ]
  },
  {
   "cell_type": "markdown",
   "metadata": {},
   "source": [
    "### Imports"
   ]
  },
  {
   "cell_type": "code",
   "execution_count": 1,
   "metadata": {
    "collapsed": true
   },
   "outputs": [],
   "source": [
    "#!/usr/bin/env python\n",
    "from __future__ import print_function\n",
    "# import six\n",
    "import os  # needed navigate the system to get the input data\n",
    "import pandas as pd\n",
    "import numpy as np\n",
    "import dataframe_image as dfi\n",
    "from pathlib import Path\n",
    "import xgboost\n",
    "from pycaret.classification import *\n",
    "# import ydata_profiling\n",
    "import seaborn as sns\n",
    "\n",
    "%matplotlib inline\n",
    "%config InlineBackend.figure_format = 'retina' #or 'retina'. Makes the images more clear\n",
    "import matplotlib.pyplot as plt\n",
    "\n",
    "from modules.modules import (\n",
    "    calculate_sensitivity,\n",
    "    calculate_specificity, \n",
    "    save_df_to_png,\n",
    "    load_all_data,\n",
    "    plot_top_models,\n",
    "    MODEL_PLOTS\n",
    ")\n",
    "\n",
    "os.environ[\"PYCARET_CUSTOM_LOGGING_LEVEL\"] = \"CRITICAL\""
   ]
  },
  {
   "cell_type": "markdown",
   "metadata": {},
   "source": [
    "## Load features dataset"
   ]
  },
  {
   "cell_type": "code",
   "execution_count": 2,
   "metadata": {},
   "outputs": [
    {
     "name": "stdout",
     "output_type": "stream",
     "text": [
      "Radiomics Dataset shape (199, 1198)\n",
      "Clinical Data Dataset shape (199, 18)\n",
      "Dataset with Radiomics features and target label shape (198, 1198)\n",
      "Dataset with Radiomics features and clinical data shape (198, 1214)\n"
     ]
    }
   ],
   "source": [
    "params_file = \"just_features\"\n",
    "df_radiomics, df_radiomics_clinical = load_all_data(params_file)"
   ]
  },
  {
   "cell_type": "markdown",
   "metadata": {},
   "source": [
    "## Define the Experiment Name"
   ]
  },
  {
   "cell_type": "code",
   "execution_count": 172,
   "metadata": {},
   "outputs": [
    {
     "name": "stdout",
     "output_type": "stream",
     "text": [
      "[LightGBM] [Warning] There are no meaningful features which satisfy the provided configuration. Decreasing Dataset parameters min_data_in_bin or min_data_in_leaf and re-constructing Dataset might resolve this warning.\n",
      "[LightGBM] [Info] Number of positive: 1, number of negative: 1\n",
      "[LightGBM] [Warning] There are no meaningful features which satisfy the provided configuration. Decreasing Dataset parameters min_data_in_bin or min_data_in_leaf and re-constructing Dataset might resolve this warning.\n",
      "[LightGBM] [Warning] Using sparse features with CUDA is currently not supported.\n",
      "[LightGBM] [Info] Number of positive: 1, number of negative: 1\n",
      "[LightGBM] [Warning] There are no meaningful features which satisfy the provided configuration. Decreasing Dataset parameters min_data_in_bin or min_data_in_leaf and re-constructing Dataset might resolve this warning.\n",
      "[LightGBM] [Info] Number of positive: 1, number of negative: 1\n",
      "[LightGBM] [Warning] There are no meaningful features which satisfy the provided configuration. Decreasing Dataset parameters min_data_in_bin or min_data_in_leaf and re-constructing Dataset might resolve this warning.\n",
      "[LightGBM] [Warning] Using sparse features with CUDA is currently not supported.\n",
      "[LightGBM] [Info] Number of positive: 1, number of negative: 1\n",
      "[LightGBM] [Warning] There are no meaningful features which satisfy the provided configuration. Decreasing Dataset parameters min_data_in_bin or min_data_in_leaf and re-constructing Dataset might resolve this warning.\n",
      "[LightGBM] [Info] Number of positive: 1, number of negative: 1\n",
      "[LightGBM] [Warning] There are no meaningful features which satisfy the provided configuration. Decreasing Dataset parameters min_data_in_bin or min_data_in_leaf and re-constructing Dataset might resolve this warning.\n",
      "[LightGBM] [Warning] Using sparse features with CUDA is currently not supported.\n",
      "[LightGBM] [Info] Number of positive: 1, number of negative: 1\n",
      "[LightGBM] [Warning] There are no meaningful features which satisfy the provided configuration. Decreasing Dataset parameters min_data_in_bin or min_data_in_leaf and re-constructing Dataset might resolve this warning.\n",
      "[LightGBM] [Info] Number of positive: 1, number of negative: 1\n",
      "[LightGBM] [Warning] There are no meaningful features which satisfy the provided configuration. Decreasing Dataset parameters min_data_in_bin or min_data_in_leaf and re-constructing Dataset might resolve this warning.\n",
      "[LightGBM] [Warning] Using sparse features with CUDA is currently not supported.\n",
      "[LightGBM] [Info] Number of positive: 1, number of negative: 1\n",
      "[LightGBM] [Warning] There are no meaningful features which satisfy the provided configuration. Decreasing Dataset parameters min_data_in_bin or min_data_in_leaf and re-constructing Dataset might resolve this warning.\n",
      "[LightGBM] [Info] Number of positive: 1, number of negative: 1\n",
      "[LightGBM] [Warning] There are no meaningful features which satisfy the provided configuration. Decreasing Dataset parameters min_data_in_bin or min_data_in_leaf and re-constructing Dataset might resolve this warning.\n",
      "[LightGBM] [Warning] Using sparse features with CUDA is currently not supported.\n",
      "[LightGBM] [Info] Number of positive: 1, number of negative: 1\n",
      "[LightGBM] [Warning] There are no meaningful features which satisfy the provided configuration. Decreasing Dataset parameters min_data_in_bin or min_data_in_leaf and re-constructing Dataset might resolve this warning.\n",
      "[LightGBM] [Info] Number of positive: 1, number of negative: 1\n",
      "[LightGBM] [Warning] There are no meaningful features which satisfy the provided configuration. Decreasing Dataset parameters min_data_in_bin or min_data_in_leaf and re-constructing Dataset might resolve this warning.\n",
      "[LightGBM] [Warning] Using sparse features with CUDA is currently not supported.\n",
      "[LightGBM] [Info] Number of positive: 1, number of negative: 1\n"
     ]
    },
    {
     "name": "stderr",
     "output_type": "stream",
     "text": [
      "[LightGBM] [Fatal] GPU Tree Learner was not enabled in this build.\n",
      "Please recompile with CMake option -DUSE_GPU=1\n",
      "[LightGBM] [Fatal] CUDA Tree Learner was not enabled in this build.\n",
      "Please recompile with CMake option -DUSE_CUDA=1\n",
      "[LightGBM] [Fatal] GPU Tree Learner was not enabled in this build.\n",
      "Please recompile with CMake option -DUSE_GPU=1\n",
      "[LightGBM] [Fatal] CUDA Tree Learner was not enabled in this build.\n",
      "Please recompile with CMake option -DUSE_CUDA=1\n",
      "[LightGBM] [Fatal] GPU Tree Learner was not enabled in this build.\n",
      "Please recompile with CMake option -DUSE_GPU=1\n",
      "[LightGBM] [Fatal] CUDA Tree Learner was not enabled in this build.\n",
      "Please recompile with CMake option -DUSE_CUDA=1\n",
      "[LightGBM] [Fatal] GPU Tree Learner was not enabled in this build.\n",
      "Please recompile with CMake option -DUSE_GPU=1\n",
      "[LightGBM] [Fatal] CUDA Tree Learner was not enabled in this build.\n",
      "Please recompile with CMake option -DUSE_CUDA=1\n",
      "[LightGBM] [Fatal] GPU Tree Learner was not enabled in this build.\n",
      "Please recompile with CMake option -DUSE_GPU=1\n",
      "[LightGBM] [Fatal] CUDA Tree Learner was not enabled in this build.\n",
      "Please recompile with CMake option -DUSE_CUDA=1\n",
      "[LightGBM] [Fatal] GPU Tree Learner was not enabled in this build.\n",
      "Please recompile with CMake option -DUSE_GPU=1\n",
      "[LightGBM] [Fatal] CUDA Tree Learner was not enabled in this build.\n",
      "Please recompile with CMake option -DUSE_CUDA=1\n"
     ]
    },
    {
     "name": "stdout",
     "output_type": "stream",
     "text": [
      "[LightGBM] [Warning] There are no meaningful features which satisfy the provided configuration. Decreasing Dataset parameters min_data_in_bin or min_data_in_leaf and re-constructing Dataset might resolve this warning.\n",
      "[LightGBM] [Info] Number of positive: 1, number of negative: 1\n",
      "[LightGBM] [Warning] There are no meaningful features which satisfy the provided configuration. Decreasing Dataset parameters min_data_in_bin or min_data_in_leaf and re-constructing Dataset might resolve this warning.\n",
      "[LightGBM] [Warning] Using sparse features with CUDA is currently not supported.\n",
      "[LightGBM] [Info] Number of positive: 1, number of negative: 1\n"
     ]
    },
    {
     "name": "stderr",
     "output_type": "stream",
     "text": [
      "[LightGBM] [Fatal] GPU Tree Learner was not enabled in this build.\n",
      "Please recompile with CMake option -DUSE_GPU=1\n",
      "[LightGBM] [Fatal] CUDA Tree Learner was not enabled in this build.\n",
      "Please recompile with CMake option -DUSE_CUDA=1\n"
     ]
    },
    {
     "name": "stdout",
     "output_type": "stream",
     "text": [
      "[LightGBM] [Warning] Found whitespace in feature_names, replace with underlines\n",
      "[LightGBM] [Info] Number of positive: 86, number of negative: 86\n",
      "[LightGBM] [Info] Auto-choosing col-wise multi-threading, the overhead of testing was 0.001420 seconds.\n",
      "You can set `force_col_wise=true` to remove the overhead.\n",
      "[LightGBM] [Info] Total Bins 70816\n",
      "[LightGBM] [Info] Number of data points in the train set: 172, number of used features: 1213\n",
      "[LightGBM] [Info] [binary:BoostFromScore]: pavg=0.500000 -> initscore=0.000000\n",
      "[LightGBM] [Warning] No further splits with positive gain, best gain: -inf\n",
      "[LightGBM] [Warning] No further splits with positive gain, best gain: -inf\n",
      "[LightGBM] [Warning] No further splits with positive gain, best gain: -inf\n",
      "[LightGBM] [Warning] No further splits with positive gain, best gain: -inf\n",
      "[LightGBM] [Warning] No further splits with positive gain, best gain: -inf\n",
      "[LightGBM] [Warning] No further splits with positive gain, best gain: -inf\n",
      "[LightGBM] [Warning] No further splits with positive gain, best gain: -inf\n",
      "[LightGBM] [Warning] No further splits with positive gain, best gain: -inf\n",
      "[LightGBM] [Warning] No further splits with positive gain, best gain: -inf\n",
      "[LightGBM] [Warning] No further splits with positive gain, best gain: -inf\n",
      "[LightGBM] [Warning] No further splits with positive gain, best gain: -inf\n",
      "[LightGBM] [Warning] No further splits with positive gain, best gain: -inf\n",
      "[LightGBM] [Warning] No further splits with positive gain, best gain: -inf\n",
      "[LightGBM] [Warning] No further splits with positive gain, best gain: -inf\n",
      "[LightGBM] [Warning] No further splits with positive gain, best gain: -inf\n",
      "[LightGBM] [Warning] No further splits with positive gain, best gain: -inf\n",
      "[LightGBM] [Warning] No further splits with positive gain, best gain: -inf\n",
      "[LightGBM] [Warning] No further splits with positive gain, best gain: -inf\n",
      "[LightGBM] [Warning] No further splits with positive gain, best gain: -inf\n",
      "[LightGBM] [Warning] No further splits with positive gain, best gain: -inf\n",
      "[LightGBM] [Warning] No further splits with positive gain, best gain: -inf\n",
      "[LightGBM] [Warning] No further splits with positive gain, best gain: -inf\n",
      "[LightGBM] [Warning] No further splits with positive gain, best gain: -inf\n",
      "[LightGBM] [Warning] No further splits with positive gain, best gain: -inf\n",
      "[LightGBM] [Warning] No further splits with positive gain, best gain: -inf\n",
      "[LightGBM] [Warning] No further splits with positive gain, best gain: -inf\n",
      "[LightGBM] [Warning] No further splits with positive gain, best gain: -inf\n",
      "[LightGBM] [Warning] No further splits with positive gain, best gain: -inf\n",
      "[LightGBM] [Warning] No further splits with positive gain, best gain: -inf\n",
      "[LightGBM] [Warning] No further splits with positive gain, best gain: -inf\n",
      "[LightGBM] [Warning] No further splits with positive gain, best gain: -inf\n",
      "[LightGBM] [Warning] No further splits with positive gain, best gain: -inf\n",
      "[LightGBM] [Warning] No further splits with positive gain, best gain: -inf\n",
      "[LightGBM] [Warning] No further splits with positive gain, best gain: -inf\n",
      "[LightGBM] [Warning] No further splits with positive gain, best gain: -inf\n",
      "[LightGBM] [Warning] No further splits with positive gain, best gain: -inf\n",
      "[LightGBM] [Warning] No further splits with positive gain, best gain: -inf\n",
      "[LightGBM] [Warning] No further splits with positive gain, best gain: -inf\n",
      "[LightGBM] [Warning] No further splits with positive gain, best gain: -inf\n",
      "[LightGBM] [Warning] No further splits with positive gain, best gain: -inf\n",
      "[LightGBM] [Warning] No further splits with positive gain, best gain: -inf\n",
      "[LightGBM] [Warning] No further splits with positive gain, best gain: -inf\n",
      "[LightGBM] [Warning] No further splits with positive gain, best gain: -inf\n",
      "[LightGBM] [Warning] No further splits with positive gain, best gain: -inf\n",
      "[LightGBM] [Warning] No further splits with positive gain, best gain: -inf\n",
      "[LightGBM] [Warning] No further splits with positive gain, best gain: -inf\n",
      "[LightGBM] [Warning] No further splits with positive gain, best gain: -inf\n",
      "[LightGBM] [Warning] No further splits with positive gain, best gain: -inf\n",
      "[LightGBM] [Warning] No further splits with positive gain, best gain: -inf\n",
      "[LightGBM] [Warning] No further splits with positive gain, best gain: -inf\n",
      "[LightGBM] [Warning] No further splits with positive gain, best gain: -inf\n",
      "[LightGBM] [Warning] No further splits with positive gain, best gain: -inf\n",
      "[LightGBM] [Warning] No further splits with positive gain, best gain: -inf\n",
      "[LightGBM] [Warning] No further splits with positive gain, best gain: -inf\n",
      "[LightGBM] [Warning] No further splits with positive gain, best gain: -inf\n",
      "[LightGBM] [Warning] No further splits with positive gain, best gain: -inf\n",
      "[LightGBM] [Warning] No further splits with positive gain, best gain: -inf\n",
      "[LightGBM] [Warning] No further splits with positive gain, best gain: -inf\n",
      "[LightGBM] [Warning] No further splits with positive gain, best gain: -inf\n",
      "[LightGBM] [Warning] No further splits with positive gain, best gain: -inf\n",
      "[LightGBM] [Warning] No further splits with positive gain, best gain: -inf\n",
      "[LightGBM] [Warning] No further splits with positive gain, best gain: -inf\n",
      "[LightGBM] [Warning] No further splits with positive gain, best gain: -inf\n",
      "[LightGBM] [Warning] No further splits with positive gain, best gain: -inf\n",
      "[LightGBM] [Warning] No further splits with positive gain, best gain: -inf\n",
      "[LightGBM] [Warning] No further splits with positive gain, best gain: -inf\n",
      "[LightGBM] [Warning] No further splits with positive gain, best gain: -inf\n",
      "[LightGBM] [Warning] No further splits with positive gain, best gain: -inf\n",
      "[LightGBM] [Warning] No further splits with positive gain, best gain: -inf\n",
      "[LightGBM] [Warning] No further splits with positive gain, best gain: -inf\n",
      "[LightGBM] [Warning] No further splits with positive gain, best gain: -inf\n",
      "[LightGBM] [Warning] No further splits with positive gain, best gain: -inf\n",
      "[LightGBM] [Warning] No further splits with positive gain, best gain: -inf\n",
      "[LightGBM] [Warning] No further splits with positive gain, best gain: -inf\n",
      "[LightGBM] [Warning] No further splits with positive gain, best gain: -inf\n",
      "[LightGBM] [Warning] No further splits with positive gain, best gain: -inf\n",
      "[LightGBM] [Warning] No further splits with positive gain, best gain: -inf\n",
      "[LightGBM] [Warning] No further splits with positive gain, best gain: -inf\n",
      "[LightGBM] [Warning] No further splits with positive gain, best gain: -inf\n",
      "[LightGBM] [Warning] No further splits with positive gain, best gain: -inf\n",
      "[LightGBM] [Warning] No further splits with positive gain, best gain: -inf\n",
      "[LightGBM] [Warning] No further splits with positive gain, best gain: -inf\n",
      "[LightGBM] [Warning] No further splits with positive gain, best gain: -inf\n",
      "[LightGBM] [Warning] No further splits with positive gain, best gain: -inf\n",
      "[LightGBM] [Warning] No further splits with positive gain, best gain: -inf\n",
      "[LightGBM] [Warning] No further splits with positive gain, best gain: -inf\n",
      "[LightGBM] [Warning] No further splits with positive gain, best gain: -inf\n",
      "[LightGBM] [Warning] No further splits with positive gain, best gain: -inf\n",
      "[LightGBM] [Warning] No further splits with positive gain, best gain: -inf\n",
      "[LightGBM] [Warning] No further splits with positive gain, best gain: -inf\n",
      "[LightGBM] [Warning] No further splits with positive gain, best gain: -inf\n",
      "[LightGBM] [Warning] No further splits with positive gain, best gain: -inf\n",
      "[LightGBM] [Warning] No further splits with positive gain, best gain: -inf\n",
      "[LightGBM] [Warning] No further splits with positive gain, best gain: -inf\n",
      "[LightGBM] [Warning] No further splits with positive gain, best gain: -inf\n",
      "[LightGBM] [Warning] No further splits with positive gain, best gain: -inf\n",
      "[LightGBM] [Warning] No further splits with positive gain, best gain: -inf\n",
      "[LightGBM] [Warning] No further splits with positive gain, best gain: -inf\n",
      "[LightGBM] [Warning] No further splits with positive gain, best gain: -inf\n",
      "[LightGBM] [Warning] No further splits with positive gain, best gain: -inf\n"
     ]
    },
    {
     "data": {
      "text/html": [
       "<style type=\"text/css\">\n",
       "#T_d2e15_row10_col1, #T_d2e15_row16_col1, #T_d2e15_row18_col1, #T_d2e15_row25_col1 {\n",
       "  background-color: lightgreen;\n",
       "}\n",
       "</style>\n",
       "<table id=\"T_d2e15\">\n",
       "  <thead>\n",
       "    <tr>\n",
       "      <th class=\"blank level0\" >&nbsp;</th>\n",
       "      <th id=\"T_d2e15_level0_col0\" class=\"col_heading level0 col0\" >Description</th>\n",
       "      <th id=\"T_d2e15_level0_col1\" class=\"col_heading level0 col1\" >Value</th>\n",
       "    </tr>\n",
       "  </thead>\n",
       "  <tbody>\n",
       "    <tr>\n",
       "      <th id=\"T_d2e15_level0_row0\" class=\"row_heading level0 row0\" >0</th>\n",
       "      <td id=\"T_d2e15_row0_col0\" class=\"data row0 col0\" >Session id</td>\n",
       "      <td id=\"T_d2e15_row0_col1\" class=\"data row0 col1\" >42</td>\n",
       "    </tr>\n",
       "    <tr>\n",
       "      <th id=\"T_d2e15_level0_row1\" class=\"row_heading level0 row1\" >1</th>\n",
       "      <td id=\"T_d2e15_row1_col0\" class=\"data row1 col0\" >Target</td>\n",
       "      <td id=\"T_d2e15_row1_col1\" class=\"data row1 col1\" >Death</td>\n",
       "    </tr>\n",
       "    <tr>\n",
       "      <th id=\"T_d2e15_level0_row2\" class=\"row_heading level0 row2\" >2</th>\n",
       "      <td id=\"T_d2e15_row2_col0\" class=\"data row2 col0\" >Target type</td>\n",
       "      <td id=\"T_d2e15_row2_col1\" class=\"data row2 col1\" >Binary</td>\n",
       "    </tr>\n",
       "    <tr>\n",
       "      <th id=\"T_d2e15_level0_row3\" class=\"row_heading level0 row3\" >3</th>\n",
       "      <td id=\"T_d2e15_row3_col0\" class=\"data row3 col0\" >Original data shape</td>\n",
       "      <td id=\"T_d2e15_row3_col1\" class=\"data row3 col1\" >(198, 1214)</td>\n",
       "    </tr>\n",
       "    <tr>\n",
       "      <th id=\"T_d2e15_level0_row4\" class=\"row_heading level0 row4\" >4</th>\n",
       "      <td id=\"T_d2e15_row4_col0\" class=\"data row4 col0\" >Transformed data shape</td>\n",
       "      <td id=\"T_d2e15_row4_col1\" class=\"data row4 col1\" >(232, 51)</td>\n",
       "    </tr>\n",
       "    <tr>\n",
       "      <th id=\"T_d2e15_level0_row5\" class=\"row_heading level0 row5\" >5</th>\n",
       "      <td id=\"T_d2e15_row5_col0\" class=\"data row5 col0\" >Transformed train set shape</td>\n",
       "      <td id=\"T_d2e15_row5_col1\" class=\"data row5 col1\" >(172, 51)</td>\n",
       "    </tr>\n",
       "    <tr>\n",
       "      <th id=\"T_d2e15_level0_row6\" class=\"row_heading level0 row6\" >6</th>\n",
       "      <td id=\"T_d2e15_row6_col0\" class=\"data row6 col0\" >Transformed test set shape</td>\n",
       "      <td id=\"T_d2e15_row6_col1\" class=\"data row6 col1\" >(60, 51)</td>\n",
       "    </tr>\n",
       "    <tr>\n",
       "      <th id=\"T_d2e15_level0_row7\" class=\"row_heading level0 row7\" >7</th>\n",
       "      <td id=\"T_d2e15_row7_col0\" class=\"data row7 col0\" >Numeric features</td>\n",
       "      <td id=\"T_d2e15_row7_col1\" class=\"data row7 col1\" >1212</td>\n",
       "    </tr>\n",
       "    <tr>\n",
       "      <th id=\"T_d2e15_level0_row8\" class=\"row_heading level0 row8\" >8</th>\n",
       "      <td id=\"T_d2e15_row8_col0\" class=\"data row8 col0\" >Categorical features</td>\n",
       "      <td id=\"T_d2e15_row8_col1\" class=\"data row8 col1\" >1</td>\n",
       "    </tr>\n",
       "    <tr>\n",
       "      <th id=\"T_d2e15_level0_row9\" class=\"row_heading level0 row9\" >9</th>\n",
       "      <td id=\"T_d2e15_row9_col0\" class=\"data row9 col0\" >Rows with missing values</td>\n",
       "      <td id=\"T_d2e15_row9_col1\" class=\"data row9 col1\" >21.7%</td>\n",
       "    </tr>\n",
       "    <tr>\n",
       "      <th id=\"T_d2e15_level0_row10\" class=\"row_heading level0 row10\" >10</th>\n",
       "      <td id=\"T_d2e15_row10_col0\" class=\"data row10 col0\" >Preprocess</td>\n",
       "      <td id=\"T_d2e15_row10_col1\" class=\"data row10 col1\" >True</td>\n",
       "    </tr>\n",
       "    <tr>\n",
       "      <th id=\"T_d2e15_level0_row11\" class=\"row_heading level0 row11\" >11</th>\n",
       "      <td id=\"T_d2e15_row11_col0\" class=\"data row11 col0\" >Imputation type</td>\n",
       "      <td id=\"T_d2e15_row11_col1\" class=\"data row11 col1\" >simple</td>\n",
       "    </tr>\n",
       "    <tr>\n",
       "      <th id=\"T_d2e15_level0_row12\" class=\"row_heading level0 row12\" >12</th>\n",
       "      <td id=\"T_d2e15_row12_col0\" class=\"data row12 col0\" >Numeric imputation</td>\n",
       "      <td id=\"T_d2e15_row12_col1\" class=\"data row12 col1\" >mean</td>\n",
       "    </tr>\n",
       "    <tr>\n",
       "      <th id=\"T_d2e15_level0_row13\" class=\"row_heading level0 row13\" >13</th>\n",
       "      <td id=\"T_d2e15_row13_col0\" class=\"data row13 col0\" >Categorical imputation</td>\n",
       "      <td id=\"T_d2e15_row13_col1\" class=\"data row13 col1\" >mode</td>\n",
       "    </tr>\n",
       "    <tr>\n",
       "      <th id=\"T_d2e15_level0_row14\" class=\"row_heading level0 row14\" >14</th>\n",
       "      <td id=\"T_d2e15_row14_col0\" class=\"data row14 col0\" >Maximum one-hot encoding</td>\n",
       "      <td id=\"T_d2e15_row14_col1\" class=\"data row14 col1\" >25</td>\n",
       "    </tr>\n",
       "    <tr>\n",
       "      <th id=\"T_d2e15_level0_row15\" class=\"row_heading level0 row15\" >15</th>\n",
       "      <td id=\"T_d2e15_row15_col0\" class=\"data row15 col0\" >Encoding method</td>\n",
       "      <td id=\"T_d2e15_row15_col1\" class=\"data row15 col1\" >None</td>\n",
       "    </tr>\n",
       "    <tr>\n",
       "      <th id=\"T_d2e15_level0_row16\" class=\"row_heading level0 row16\" >16</th>\n",
       "      <td id=\"T_d2e15_row16_col0\" class=\"data row16 col0\" >Fix imbalance</td>\n",
       "      <td id=\"T_d2e15_row16_col1\" class=\"data row16 col1\" >True</td>\n",
       "    </tr>\n",
       "    <tr>\n",
       "      <th id=\"T_d2e15_level0_row17\" class=\"row_heading level0 row17\" >17</th>\n",
       "      <td id=\"T_d2e15_row17_col0\" class=\"data row17 col0\" >Fix imbalance method</td>\n",
       "      <td id=\"T_d2e15_row17_col1\" class=\"data row17 col1\" >SMOTE</td>\n",
       "    </tr>\n",
       "    <tr>\n",
       "      <th id=\"T_d2e15_level0_row18\" class=\"row_heading level0 row18\" >18</th>\n",
       "      <td id=\"T_d2e15_row18_col0\" class=\"data row18 col0\" >Feature selection</td>\n",
       "      <td id=\"T_d2e15_row18_col1\" class=\"data row18 col1\" >True</td>\n",
       "    </tr>\n",
       "    <tr>\n",
       "      <th id=\"T_d2e15_level0_row19\" class=\"row_heading level0 row19\" >19</th>\n",
       "      <td id=\"T_d2e15_row19_col0\" class=\"data row19 col0\" >Feature selection method</td>\n",
       "      <td id=\"T_d2e15_row19_col1\" class=\"data row19 col1\" >classic</td>\n",
       "    </tr>\n",
       "    <tr>\n",
       "      <th id=\"T_d2e15_level0_row20\" class=\"row_heading level0 row20\" >20</th>\n",
       "      <td id=\"T_d2e15_row20_col0\" class=\"data row20 col0\" >Feature selection estimator</td>\n",
       "      <td id=\"T_d2e15_row20_col1\" class=\"data row20 col1\" >lightgbm</td>\n",
       "    </tr>\n",
       "    <tr>\n",
       "      <th id=\"T_d2e15_level0_row21\" class=\"row_heading level0 row21\" >21</th>\n",
       "      <td id=\"T_d2e15_row21_col0\" class=\"data row21 col0\" >Number of features selected</td>\n",
       "      <td id=\"T_d2e15_row21_col1\" class=\"data row21 col1\" >50</td>\n",
       "    </tr>\n",
       "    <tr>\n",
       "      <th id=\"T_d2e15_level0_row22\" class=\"row_heading level0 row22\" >22</th>\n",
       "      <td id=\"T_d2e15_row22_col0\" class=\"data row22 col0\" >Fold Generator</td>\n",
       "      <td id=\"T_d2e15_row22_col1\" class=\"data row22 col1\" >StratifiedKFold</td>\n",
       "    </tr>\n",
       "    <tr>\n",
       "      <th id=\"T_d2e15_level0_row23\" class=\"row_heading level0 row23\" >23</th>\n",
       "      <td id=\"T_d2e15_row23_col0\" class=\"data row23 col0\" >Fold Number</td>\n",
       "      <td id=\"T_d2e15_row23_col1\" class=\"data row23 col1\" >10</td>\n",
       "    </tr>\n",
       "    <tr>\n",
       "      <th id=\"T_d2e15_level0_row24\" class=\"row_heading level0 row24\" >24</th>\n",
       "      <td id=\"T_d2e15_row24_col0\" class=\"data row24 col0\" >CPU Jobs</td>\n",
       "      <td id=\"T_d2e15_row24_col1\" class=\"data row24 col1\" >-1</td>\n",
       "    </tr>\n",
       "    <tr>\n",
       "      <th id=\"T_d2e15_level0_row25\" class=\"row_heading level0 row25\" >25</th>\n",
       "      <td id=\"T_d2e15_row25_col0\" class=\"data row25 col0\" >Use GPU</td>\n",
       "      <td id=\"T_d2e15_row25_col1\" class=\"data row25 col1\" >True</td>\n",
       "    </tr>\n",
       "    <tr>\n",
       "      <th id=\"T_d2e15_level0_row26\" class=\"row_heading level0 row26\" >26</th>\n",
       "      <td id=\"T_d2e15_row26_col0\" class=\"data row26 col0\" >Log Experiment</td>\n",
       "      <td id=\"T_d2e15_row26_col1\" class=\"data row26 col1\" >False</td>\n",
       "    </tr>\n",
       "    <tr>\n",
       "      <th id=\"T_d2e15_level0_row27\" class=\"row_heading level0 row27\" >27</th>\n",
       "      <td id=\"T_d2e15_row27_col0\" class=\"data row27 col0\" >Experiment Name</td>\n",
       "      <td id=\"T_d2e15_row27_col1\" class=\"data row27 col1\" >with_clinical_data</td>\n",
       "    </tr>\n",
       "    <tr>\n",
       "      <th id=\"T_d2e15_level0_row28\" class=\"row_heading level0 row28\" >28</th>\n",
       "      <td id=\"T_d2e15_row28_col0\" class=\"data row28 col0\" >USI</td>\n",
       "      <td id=\"T_d2e15_row28_col1\" class=\"data row28 col1\" >75c4</td>\n",
       "    </tr>\n",
       "  </tbody>\n",
       "</table>\n"
      ],
      "text/plain": [
       "<pandas.io.formats.style.Styler at 0x345edcdf0>"
      ]
     },
     "metadata": {},
     "output_type": "display_data"
    },
    {
     "name": "stdout",
     "output_type": "stream",
     "text": [
      "[LightGBM] [Warning] There are no meaningful features which satisfy the provided configuration. Decreasing Dataset parameters min_data_in_bin or min_data_in_leaf and re-constructing Dataset might resolve this warning.\n",
      "[LightGBM] [Info] Number of positive: 1, number of negative: 1\n",
      "[LightGBM] [Warning] There are no meaningful features which satisfy the provided configuration. Decreasing Dataset parameters min_data_in_bin or min_data_in_leaf and re-constructing Dataset might resolve this warning.\n",
      "[LightGBM] [Warning] Using sparse features with CUDA is currently not supported.\n",
      "[LightGBM] [Info] Number of positive: 1, number of negative: 1\n",
      "[LightGBM] [Warning] There are no meaningful features which satisfy the provided configuration. Decreasing Dataset parameters min_data_in_bin or min_data_in_leaf and re-constructing Dataset might resolve this warning.\n",
      "[LightGBM] [Info] Number of positive: 1, number of negative: 1\n",
      "[LightGBM] [Warning] There are no meaningful features which satisfy the provided configuration. Decreasing Dataset parameters min_data_in_bin or min_data_in_leaf and re-constructing Dataset might resolve this warning.\n",
      "[LightGBM] [Warning] Using sparse features with CUDA is currently not supported.\n",
      "[LightGBM] [Info] Number of positive: 1, number of negative: 1\n",
      "[LightGBM] [Warning] There are no meaningful features which satisfy the provided configuration. Decreasing Dataset parameters min_data_in_bin or min_data_in_leaf and re-constructing Dataset might resolve this warning.\n",
      "[LightGBM] [Info] Number of positive: 1, number of negative: 1\n",
      "[LightGBM] [Warning] There are no meaningful features which satisfy the provided configuration. Decreasing Dataset parameters min_data_in_bin or min_data_in_leaf and re-constructing Dataset might resolve this warning.\n",
      "[LightGBM] [Warning] Using sparse features with CUDA is currently not supported.\n",
      "[LightGBM] [Info] Number of positive: 1, number of negative: 1\n",
      "[LightGBM] [Warning] There are no meaningful features which satisfy the provided configuration. Decreasing Dataset parameters min_data_in_bin or min_data_in_leaf and re-constructing Dataset might resolve this warning.\n",
      "[LightGBM] [Info] Number of positive: 1, number of negative: 1\n",
      "[LightGBM] [Warning] There are no meaningful features which satisfy the provided configuration. Decreasing Dataset parameters min_data_in_bin or min_data_in_leaf and re-constructing Dataset might resolve this warning.\n",
      "[LightGBM] [Warning] Using sparse features with CUDA is currently not supported.\n",
      "[LightGBM] [Info] Number of positive: 1, number of negative: 1\n"
     ]
    },
    {
     "name": "stderr",
     "output_type": "stream",
     "text": [
      "[LightGBM] [Fatal] GPU Tree Learner was not enabled in this build.\n",
      "Please recompile with CMake option -DUSE_GPU=1\n",
      "[LightGBM] [Fatal] CUDA Tree Learner was not enabled in this build.\n",
      "Please recompile with CMake option -DUSE_CUDA=1\n",
      "[LightGBM] [Fatal] GPU Tree Learner was not enabled in this build.\n",
      "Please recompile with CMake option -DUSE_GPU=1\n",
      "[LightGBM] [Fatal] CUDA Tree Learner was not enabled in this build.\n",
      "Please recompile with CMake option -DUSE_CUDA=1\n",
      "[LightGBM] [Fatal] GPU Tree Learner was not enabled in this build.\n",
      "Please recompile with CMake option -DUSE_GPU=1\n",
      "[LightGBM] [Fatal] CUDA Tree Learner was not enabled in this build.\n",
      "Please recompile with CMake option -DUSE_CUDA=1\n",
      "[LightGBM] [Fatal] GPU Tree Learner was not enabled in this build.\n",
      "Please recompile with CMake option -DUSE_GPU=1\n",
      "[LightGBM] [Fatal] CUDA Tree Learner was not enabled in this build.\n",
      "Please recompile with CMake option -DUSE_CUDA=1\n"
     ]
    },
    {
     "data": {
      "text/plain": [
       "<Figure size 800x550 with 0 Axes>"
      ]
     },
     "metadata": {},
     "output_type": "display_data"
    }
   ],
   "source": [
    "# experiment_name = \"basic\"\n",
    "# experiment_name = \"remove_outliers\"\n",
    "# experiment_name = \"remove_multicollinearity\"\n",
    "# experiment_name = \"fix_imbalance_synthetic_data\"\n",
    "# experiment_name = \"pca\"\n",
    "# experiment_name = \"feature_selection\"\n",
    "experiment_name = \"with_clinical_data\"\n",
    "# experiment_name = \"ensemble_models\"\n",
    "\n",
    "clf = setup(data = df_radiomics_clinical,       # The dataset we want to use\n",
    "   session_id=42,                               # Controls the randomness of the experiment\n",
    "   experiment_name=experiment_name,             # Experiment name\n",
    "   target = 'Death',                            # The feature we want to predict\n",
    "   use_gpu = True,                              # Use GPU when possible\n",
    "   fold = 10,                                   # Number of folds for cross-validation\n",
    "   fold_strategy = 'stratifiedkfold',           # Folds methods: kfold, stratifiedkfold, groupkfold, timeseries\n",
    "   train_size = 0.70,                           # Proportion of data used for training\n",
    "   # normalize = True,                            # Normalize with zscore. Scale to mean 0 std 1\n",
    "   # normalize_method = 'robust',                 # Methods available: zscore, minmax, maxabs, robust\n",
    "   # remove_outliers = True,                      # Remove outliers using an Isolation Forest.\n",
    "   # outliers_method = 'iforest',                 # Methods for outliers: iforest:Isolation Forest, ee:EllipticEnvelope, lof: LocalOutlierFactor\n",
    "   # outliers_threshold = 0.01,                   # The percentage of outliers to be removed from the dataset\n",
    "   # remove_multicollinearity = True,             # Features with the inter-correlations higher than the defined threshold are removed\n",
    "   # multicollinearity_threshold = 0.75,          # Minimum absolute Pearson correlation to identify correlated features\n",
    "   fix_imbalance = True,                        # Use SMOTE (Synthetic Minority Over-sampling Technique) to create synthetic datapoints for minority class\n",
    "   # pca = True,                                  # Apply dimensionality reduction to project the data into a lower dimensional space \n",
    "   # pca_method = 'linear',                       # PCA methods: 'linear', 'kernel', 'incremental'\n",
    "   # pca_components = 37,                         # Number of components to keep. int or float\n",
    "   feature_selection = True,                    # Select a subset of features based on a feature importance score\n",
    "   feature_selection_method = 'classic',        # Methods: 'univariate': SelectKBest, 'classic': SelectFromModel, 'sequential': SequentialFeatureSelector\n",
    "   feature_selection_estimator = 'lightgbm',    # LGBClassifier is used to determine the feature importances\n",
    "   n_features_to_select = 50,                   # Maximum number of features to select\n",
    "   # profile=True                                 # When set, an interactive EDA report is displayed.\n",
    "   verbose=True                                # When set, it displays the setup process\n",
    ")\n",
    "# add Specificity to metrics\n",
    "add_metric('spec', 'Specificity', calculate_specificity)\n",
    "# add Sensitivity to metrics\n",
    "add_metric('sens', 'Sensitivity', calculate_sensitivity)\n",
    "\n",
    "# remoce recall\n",
    "remove_metric('recall')\n",
    "include = list(models().axes[0])\n",
    "\n",
    "features_heatplot = sns.heatmap(clf.dataset_transformed.drop(('Death'), axis=1).corr(), cmap=\"YlGnBu\")\n",
    "plt.savefig(f'./results/{experiment_name}/features_correlation.png', bbox_inches=\"tight\") \n",
    "plt.clf()"
   ]
  },
  {
   "cell_type": "code",
   "execution_count": 129,
   "metadata": {},
   "outputs": [
    {
     "name": "stdout",
     "output_type": "stream",
     "text": [
      "Stored df in ./results/pca/setup_settings.png\n"
     ]
    }
   ],
   "source": [
    "# Store setup settings\n",
    "# rows_to_drop = [5, 6, 8, 9, 10, 11, 16, 18, 20] # basic\n",
    "# rows_to_drop = [5, 6, 8, 9, 10, 11, 18, 20, 22] # remove_outliers\n",
    "# rows_to_drop = [5, 6, 8, 9, 10, 11, 20, 22, 24] # remove_multicollinearity\n",
    "# rows_to_drop = [5, 6, 8, 9, 10, 11, 22, 24, 26] # fix_imbalance_synthetic_data\n",
    "# rows_to_drop = [5, 6, 8, 9, 10, 11, 25, 27, 29] # pca\n",
    "# rows_to_drop = [5, 6, 8, 9, 10, 11, 29, 31, 33] # feature_selection\n",
    "rows_to_drop = [5, 6, 8, 9, 10, 11, 29, 31, 33] # with_clinical_data\n",
    "# rows_to_drop = [5, 6, 8, 9, 10, 11, 18, 20] # ensemble_models\n",
    "setup_settings = clf._display_container[0].copy()\n",
    "setup_settings = setup_settings.drop(rows_to_drop, axis=0)\n",
    "setup_settings.reset_index(drop=True, inplace=True)\n",
    "store_path = f'./results/{experiment_name}/setup_settings.png'\n",
    "save_df_to_png(setup_settings, store_path)"
   ]
  },
  {
   "cell_type": "code",
   "execution_count": null,
   "metadata": {},
   "outputs": [],
   "source": [
    "# include.remove('mlp')"
   ]
  },
  {
   "cell_type": "code",
   "execution_count": 173,
   "metadata": {},
   "outputs": [
    {
     "data": {
      "text/html": [],
      "text/plain": [
       "<IPython.core.display.HTML object>"
      ]
     },
     "metadata": {},
     "output_type": "display_data"
    },
    {
     "data": {
      "text/html": [
       "<style type=\"text/css\">\n",
       "#T_1cae0 th {\n",
       "  text-align: left;\n",
       "}\n",
       "#T_1cae0_row0_col0, #T_1cae0_row0_col1, #T_1cae0_row0_col2, #T_1cae0_row0_col3, #T_1cae0_row0_col4, #T_1cae0_row0_col5, #T_1cae0_row0_col6, #T_1cae0_row0_col7, #T_1cae0_row1_col0, #T_1cae0_row1_col7, #T_1cae0_row1_col8, #T_1cae0_row2_col0, #T_1cae0_row2_col1, #T_1cae0_row2_col2, #T_1cae0_row2_col3, #T_1cae0_row2_col4, #T_1cae0_row2_col5, #T_1cae0_row2_col6, #T_1cae0_row2_col7, #T_1cae0_row2_col8, #T_1cae0_row3_col0, #T_1cae0_row3_col1, #T_1cae0_row3_col2, #T_1cae0_row3_col3, #T_1cae0_row3_col4, #T_1cae0_row3_col5, #T_1cae0_row3_col6, #T_1cae0_row3_col7, #T_1cae0_row3_col8, #T_1cae0_row4_col0, #T_1cae0_row4_col1, #T_1cae0_row4_col2, #T_1cae0_row4_col3, #T_1cae0_row4_col4, #T_1cae0_row4_col5, #T_1cae0_row4_col6, #T_1cae0_row4_col7, #T_1cae0_row4_col8, #T_1cae0_row5_col0, #T_1cae0_row5_col1, #T_1cae0_row5_col2, #T_1cae0_row5_col3, #T_1cae0_row5_col4, #T_1cae0_row5_col5, #T_1cae0_row5_col6, #T_1cae0_row5_col7, #T_1cae0_row5_col8, #T_1cae0_row6_col0, #T_1cae0_row6_col1, #T_1cae0_row6_col2, #T_1cae0_row6_col3, #T_1cae0_row6_col4, #T_1cae0_row6_col5, #T_1cae0_row6_col6, #T_1cae0_row6_col7, #T_1cae0_row6_col8, #T_1cae0_row7_col0, #T_1cae0_row7_col1, #T_1cae0_row7_col2, #T_1cae0_row7_col3, #T_1cae0_row7_col4, #T_1cae0_row7_col5, #T_1cae0_row7_col6, #T_1cae0_row7_col7, #T_1cae0_row7_col8, #T_1cae0_row8_col0, #T_1cae0_row8_col1, #T_1cae0_row8_col2, #T_1cae0_row8_col3, #T_1cae0_row8_col4, #T_1cae0_row8_col5, #T_1cae0_row8_col6, #T_1cae0_row8_col7, #T_1cae0_row8_col8, #T_1cae0_row9_col0, #T_1cae0_row9_col1, #T_1cae0_row9_col2, #T_1cae0_row9_col3, #T_1cae0_row9_col4, #T_1cae0_row9_col5, #T_1cae0_row9_col6, #T_1cae0_row9_col8 {\n",
       "  text-align: left;\n",
       "}\n",
       "#T_1cae0_row0_col8, #T_1cae0_row1_col1, #T_1cae0_row1_col2, #T_1cae0_row1_col3, #T_1cae0_row1_col4, #T_1cae0_row1_col5, #T_1cae0_row1_col6, #T_1cae0_row9_col7 {\n",
       "  text-align: left;\n",
       "  background-color: yellow;\n",
       "}\n",
       "#T_1cae0_row0_col9, #T_1cae0_row1_col9, #T_1cae0_row2_col9, #T_1cae0_row3_col9, #T_1cae0_row4_col9, #T_1cae0_row5_col9, #T_1cae0_row6_col9, #T_1cae0_row8_col9, #T_1cae0_row9_col9 {\n",
       "  text-align: left;\n",
       "  background-color: lightgrey;\n",
       "}\n",
       "#T_1cae0_row7_col9 {\n",
       "  text-align: left;\n",
       "  background-color: yellow;\n",
       "  background-color: lightgrey;\n",
       "}\n",
       "</style>\n",
       "<table id=\"T_1cae0\">\n",
       "  <thead>\n",
       "    <tr>\n",
       "      <th class=\"blank level0\" >&nbsp;</th>\n",
       "      <th id=\"T_1cae0_level0_col0\" class=\"col_heading level0 col0\" >Model</th>\n",
       "      <th id=\"T_1cae0_level0_col1\" class=\"col_heading level0 col1\" >Accuracy</th>\n",
       "      <th id=\"T_1cae0_level0_col2\" class=\"col_heading level0 col2\" >AUC</th>\n",
       "      <th id=\"T_1cae0_level0_col3\" class=\"col_heading level0 col3\" >Prec.</th>\n",
       "      <th id=\"T_1cae0_level0_col4\" class=\"col_heading level0 col4\" >F1</th>\n",
       "      <th id=\"T_1cae0_level0_col5\" class=\"col_heading level0 col5\" >Kappa</th>\n",
       "      <th id=\"T_1cae0_level0_col6\" class=\"col_heading level0 col6\" >MCC</th>\n",
       "      <th id=\"T_1cae0_level0_col7\" class=\"col_heading level0 col7\" >Specificity</th>\n",
       "      <th id=\"T_1cae0_level0_col8\" class=\"col_heading level0 col8\" >Sensitivity</th>\n",
       "      <th id=\"T_1cae0_level0_col9\" class=\"col_heading level0 col9\" >TT (Sec)</th>\n",
       "    </tr>\n",
       "  </thead>\n",
       "  <tbody>\n",
       "    <tr>\n",
       "      <th id=\"T_1cae0_level0_row0\" class=\"row_heading level0 row0\" >svm</th>\n",
       "      <td id=\"T_1cae0_row0_col0\" class=\"data row0 col0\" >SVM - Linear Kernel</td>\n",
       "      <td id=\"T_1cae0_row0_col1\" class=\"data row0 col1\" >0.4709</td>\n",
       "      <td id=\"T_1cae0_row0_col2\" class=\"data row0 col2\" >0.0000</td>\n",
       "      <td id=\"T_1cae0_row0_col3\" class=\"data row0 col3\" >0.4074</td>\n",
       "      <td id=\"T_1cae0_row0_col4\" class=\"data row0 col4\" >0.4264</td>\n",
       "      <td id=\"T_1cae0_row0_col5\" class=\"data row0 col5\" >-0.0154</td>\n",
       "      <td id=\"T_1cae0_row0_col6\" class=\"data row0 col6\" >-0.0255</td>\n",
       "      <td id=\"T_1cae0_row0_col7\" class=\"data row0 col7\" >0.3875</td>\n",
       "      <td id=\"T_1cae0_row0_col8\" class=\"data row0 col8\" >0.5900</td>\n",
       "      <td id=\"T_1cae0_row0_col9\" class=\"data row0 col9\" >0.7800</td>\n",
       "    </tr>\n",
       "    <tr>\n",
       "      <th id=\"T_1cae0_level0_row1\" class=\"row_heading level0 row1\" >lightgbm</th>\n",
       "      <td id=\"T_1cae0_row1_col0\" class=\"data row1 col0\" >Light Gradient Boosting Machine</td>\n",
       "      <td id=\"T_1cae0_row1_col1\" class=\"data row1 col1\" >0.6533</td>\n",
       "      <td id=\"T_1cae0_row1_col2\" class=\"data row1 col2\" >0.6344</td>\n",
       "      <td id=\"T_1cae0_row1_col3\" class=\"data row1 col3\" >0.5713</td>\n",
       "      <td id=\"T_1cae0_row1_col4\" class=\"data row1 col4\" >0.5343</td>\n",
       "      <td id=\"T_1cae0_row1_col5\" class=\"data row1 col5\" >0.2641</td>\n",
       "      <td id=\"T_1cae0_row1_col6\" class=\"data row1 col6\" >0.2783</td>\n",
       "      <td id=\"T_1cae0_row1_col7\" class=\"data row1 col7\" >0.7250</td>\n",
       "      <td id=\"T_1cae0_row1_col8\" class=\"data row1 col8\" >0.5367</td>\n",
       "      <td id=\"T_1cae0_row1_col9\" class=\"data row1 col9\" >0.7690</td>\n",
       "    </tr>\n",
       "    <tr>\n",
       "      <th id=\"T_1cae0_level0_row2\" class=\"row_heading level0 row2\" >mlp</th>\n",
       "      <td id=\"T_1cae0_row2_col0\" class=\"data row2 col0\" >MLP Classifier</td>\n",
       "      <td id=\"T_1cae0_row2_col1\" class=\"data row2 col1\" >0.4984</td>\n",
       "      <td id=\"T_1cae0_row2_col2\" class=\"data row2 col2\" >0.4817</td>\n",
       "      <td id=\"T_1cae0_row2_col3\" class=\"data row2 col3\" >0.3791</td>\n",
       "      <td id=\"T_1cae0_row2_col4\" class=\"data row2 col4\" >0.4106</td>\n",
       "      <td id=\"T_1cae0_row2_col5\" class=\"data row2 col5\" >-0.0013</td>\n",
       "      <td id=\"T_1cae0_row2_col6\" class=\"data row2 col6\" >0.0027</td>\n",
       "      <td id=\"T_1cae0_row2_col7\" class=\"data row2 col7\" >0.4958</td>\n",
       "      <td id=\"T_1cae0_row2_col8\" class=\"data row2 col8\" >0.5033</td>\n",
       "      <td id=\"T_1cae0_row2_col9\" class=\"data row2 col9\" >0.9420</td>\n",
       "    </tr>\n",
       "    <tr>\n",
       "      <th id=\"T_1cae0_level0_row3\" class=\"row_heading level0 row3\" >xgboost</th>\n",
       "      <td id=\"T_1cae0_row3_col0\" class=\"data row3 col0\" >Extreme Gradient Boosting</td>\n",
       "      <td id=\"T_1cae0_row3_col1\" class=\"data row3 col1\" >0.6027</td>\n",
       "      <td id=\"T_1cae0_row3_col2\" class=\"data row3 col2\" >0.5931</td>\n",
       "      <td id=\"T_1cae0_row3_col3\" class=\"data row3 col3\" >0.5417</td>\n",
       "      <td id=\"T_1cae0_row3_col4\" class=\"data row3 col4\" >0.4606</td>\n",
       "      <td id=\"T_1cae0_row3_col5\" class=\"data row3 col5\" >0.1618</td>\n",
       "      <td id=\"T_1cae0_row3_col6\" class=\"data row3 col6\" >0.1813</td>\n",
       "      <td id=\"T_1cae0_row3_col7\" class=\"data row3 col7\" >0.6917</td>\n",
       "      <td id=\"T_1cae0_row3_col8\" class=\"data row3 col8\" >0.4633</td>\n",
       "      <td id=\"T_1cae0_row3_col9\" class=\"data row3 col9\" >0.8640</td>\n",
       "    </tr>\n",
       "    <tr>\n",
       "      <th id=\"T_1cae0_level0_row4\" class=\"row_heading level0 row4\" >ada</th>\n",
       "      <td id=\"T_1cae0_row4_col0\" class=\"data row4 col0\" >Ada Boost Classifier</td>\n",
       "      <td id=\"T_1cae0_row4_col1\" class=\"data row4 col1\" >0.6308</td>\n",
       "      <td id=\"T_1cae0_row4_col2\" class=\"data row4 col2\" >0.5926</td>\n",
       "      <td id=\"T_1cae0_row4_col3\" class=\"data row4 col3\" >0.5687</td>\n",
       "      <td id=\"T_1cae0_row4_col4\" class=\"data row4 col4\" >0.4834</td>\n",
       "      <td id=\"T_1cae0_row4_col5\" class=\"data row4 col5\" >0.2048</td>\n",
       "      <td id=\"T_1cae0_row4_col6\" class=\"data row4 col6\" >0.2292</td>\n",
       "      <td id=\"T_1cae0_row4_col7\" class=\"data row4 col7\" >0.7361</td>\n",
       "      <td id=\"T_1cae0_row4_col8\" class=\"data row4 col8\" >0.4633</td>\n",
       "      <td id=\"T_1cae0_row4_col9\" class=\"data row4 col9\" >0.8220</td>\n",
       "    </tr>\n",
       "    <tr>\n",
       "      <th id=\"T_1cae0_level0_row5\" class=\"row_heading level0 row5\" >lda</th>\n",
       "      <td id=\"T_1cae0_row5_col0\" class=\"data row5 col0\" >Linear Discriminant Analysis</td>\n",
       "      <td id=\"T_1cae0_row5_col1\" class=\"data row5 col1\" >0.5648</td>\n",
       "      <td id=\"T_1cae0_row5_col2\" class=\"data row5 col2\" >0.5376</td>\n",
       "      <td id=\"T_1cae0_row5_col3\" class=\"data row5 col3\" >0.4208</td>\n",
       "      <td id=\"T_1cae0_row5_col4\" class=\"data row5 col4\" >0.4233</td>\n",
       "      <td id=\"T_1cae0_row5_col5\" class=\"data row5 col5\" >0.0803</td>\n",
       "      <td id=\"T_1cae0_row5_col6\" class=\"data row5 col6\" >0.0806</td>\n",
       "      <td id=\"T_1cae0_row5_col7\" class=\"data row5 col7\" >0.6389</td>\n",
       "      <td id=\"T_1cae0_row5_col8\" class=\"data row5 col8\" >0.4433</td>\n",
       "      <td id=\"T_1cae0_row5_col9\" class=\"data row5 col9\" >0.8390</td>\n",
       "    </tr>\n",
       "    <tr>\n",
       "      <th id=\"T_1cae0_level0_row6\" class=\"row_heading level0 row6\" >rf</th>\n",
       "      <td id=\"T_1cae0_row6_col0\" class=\"data row6 col0\" >Random Forest Classifier</td>\n",
       "      <td id=\"T_1cae0_row6_col1\" class=\"data row6 col1\" >0.6093</td>\n",
       "      <td id=\"T_1cae0_row6_col2\" class=\"data row6 col2\" >0.6033</td>\n",
       "      <td id=\"T_1cae0_row6_col3\" class=\"data row6 col3\" >0.5140</td>\n",
       "      <td id=\"T_1cae0_row6_col4\" class=\"data row6 col4\" >0.4469</td>\n",
       "      <td id=\"T_1cae0_row6_col5\" class=\"data row6 col5\" >0.1538</td>\n",
       "      <td id=\"T_1cae0_row6_col6\" class=\"data row6 col6\" >0.1663</td>\n",
       "      <td id=\"T_1cae0_row6_col7\" class=\"data row6 col7\" >0.7278</td>\n",
       "      <td id=\"T_1cae0_row6_col8\" class=\"data row6 col8\" >0.4200</td>\n",
       "      <td id=\"T_1cae0_row6_col9\" class=\"data row6 col9\" >0.8750</td>\n",
       "    </tr>\n",
       "    <tr>\n",
       "      <th id=\"T_1cae0_level0_row7\" class=\"row_heading level0 row7\" >dt</th>\n",
       "      <td id=\"T_1cae0_row7_col0\" class=\"data row7 col0\" >Decision Tree Classifier</td>\n",
       "      <td id=\"T_1cae0_row7_col1\" class=\"data row7 col1\" >0.5148</td>\n",
       "      <td id=\"T_1cae0_row7_col2\" class=\"data row7 col2\" >0.4875</td>\n",
       "      <td id=\"T_1cae0_row7_col3\" class=\"data row7 col3\" >0.3932</td>\n",
       "      <td id=\"T_1cae0_row7_col4\" class=\"data row7 col4\" >0.3228</td>\n",
       "      <td id=\"T_1cae0_row7_col5\" class=\"data row7 col5\" >-0.0304</td>\n",
       "      <td id=\"T_1cae0_row7_col6\" class=\"data row7 col6\" >-0.0051</td>\n",
       "      <td id=\"T_1cae0_row7_col7\" class=\"data row7 col7\" >0.6250</td>\n",
       "      <td id=\"T_1cae0_row7_col8\" class=\"data row7 col8\" >0.3500</td>\n",
       "      <td id=\"T_1cae0_row7_col9\" class=\"data row7 col9\" >0.7540</td>\n",
       "    </tr>\n",
       "    <tr>\n",
       "      <th id=\"T_1cae0_level0_row8\" class=\"row_heading level0 row8\" >et</th>\n",
       "      <td id=\"T_1cae0_row8_col0\" class=\"data row8 col0\" >Extra Trees Classifier</td>\n",
       "      <td id=\"T_1cae0_row8_col1\" class=\"data row8 col1\" >0.6231</td>\n",
       "      <td id=\"T_1cae0_row8_col2\" class=\"data row8 col2\" >0.5959</td>\n",
       "      <td id=\"T_1cae0_row8_col3\" class=\"data row8 col3\" >0.5105</td>\n",
       "      <td id=\"T_1cae0_row8_col4\" class=\"data row8 col4\" >0.3672</td>\n",
       "      <td id=\"T_1cae0_row8_col5\" class=\"data row8 col5\" >0.1303</td>\n",
       "      <td id=\"T_1cae0_row8_col6\" class=\"data row8 col6\" >0.1497</td>\n",
       "      <td id=\"T_1cae0_row8_col7\" class=\"data row8 col7\" >0.8083</td>\n",
       "      <td id=\"T_1cae0_row8_col8\" class=\"data row8 col8\" >0.3200</td>\n",
       "      <td id=\"T_1cae0_row8_col9\" class=\"data row8 col9\" >0.8800</td>\n",
       "    </tr>\n",
       "    <tr>\n",
       "      <th id=\"T_1cae0_level0_row9\" class=\"row_heading level0 row9\" >qda</th>\n",
       "      <td id=\"T_1cae0_row9_col0\" class=\"data row9 col0\" >Quadratic Discriminant Analysis</td>\n",
       "      <td id=\"T_1cae0_row9_col1\" class=\"data row9 col1\" >0.6231</td>\n",
       "      <td id=\"T_1cae0_row9_col2\" class=\"data row9 col2\" >0.5000</td>\n",
       "      <td id=\"T_1cae0_row9_col3\" class=\"data row9 col3\" >0.0000</td>\n",
       "      <td id=\"T_1cae0_row9_col4\" class=\"data row9 col4\" >0.0000</td>\n",
       "      <td id=\"T_1cae0_row9_col5\" class=\"data row9 col5\" >0.0000</td>\n",
       "      <td id=\"T_1cae0_row9_col6\" class=\"data row9 col6\" >0.0000</td>\n",
       "      <td id=\"T_1cae0_row9_col7\" class=\"data row9 col7\" >1.0000</td>\n",
       "      <td id=\"T_1cae0_row9_col8\" class=\"data row9 col8\" >0.0000</td>\n",
       "      <td id=\"T_1cae0_row9_col9\" class=\"data row9 col9\" >0.8320</td>\n",
       "    </tr>\n",
       "  </tbody>\n",
       "</table>\n"
      ],
      "text/plain": [
       "<pandas.io.formats.style.Styler at 0x352c814c0>"
      ]
     },
     "metadata": {},
     "output_type": "display_data"
    },
    {
     "data": {
      "text/html": [],
      "text/plain": [
       "<IPython.core.display.HTML object>"
      ]
     },
     "metadata": {},
     "output_type": "display_data"
    }
   ],
   "source": [
    "# train_models = compare_models(include = include, sort='Sensitivity', n_select=19)\n",
    "train_models = compare_models(include = ['xgboost', 'et', 'ada', 'svm', 'mlp', 'dt', 'lightgbm', 'catboost', 'qda', 'rf', 'lda'], sort='Sensitivity', n_select=19)"
   ]
  },
  {
   "cell_type": "code",
   "execution_count": 197,
   "metadata": {},
   "outputs": [
    {
     "data": {
      "text/html": [],
      "text/plain": [
       "<IPython.core.display.HTML object>"
      ]
     },
     "metadata": {},
     "output_type": "display_data"
    },
    {
     "data": {
      "image/png": "[encoded data removed]",
      "text/plain": [
       "<Figure size 800x550 with 1 Axes>"
      ]
     },
     "metadata": {
      "image/png": {
       "height": 534,
       "width": 784
      }
     },
     "output_type": "display_data"
    }
   ],
   "source": [
    "plot_model(train_models[2], plot_kwargs = {'percent' : True} , plot = 'confusion_matrix')"
   ]
  },
  {
   "cell_type": "code",
   "execution_count": 198,
   "metadata": {},
   "outputs": [
    {
     "data": {
      "text/html": [
       "<div>\n",
       "<style scoped>\n",
       "    .dataframe tbody tr th:only-of-type {\n",
       "        vertical-align: middle;\n",
       "    }\n",
       "\n",
       "    .dataframe tbody tr th {\n",
       "        vertical-align: top;\n",
       "    }\n",
       "\n",
       "    .dataframe thead th {\n",
       "        text-align: right;\n",
       "    }\n",
       "</style>\n",
       "<table border=\"1\" class=\"dataframe\">\n",
       "  <thead>\n",
       "    <tr style=\"text-align: right;\">\n",
       "      <th></th>\n",
       "      <th>Model</th>\n",
       "      <th>Accuracy</th>\n",
       "      <th>AUC</th>\n",
       "      <th>Precision</th>\n",
       "      <th>F1-score</th>\n",
       "      <th>Kappa</th>\n",
       "      <th>MCC</th>\n",
       "      <th>Specificity</th>\n",
       "      <th>Sensitivity</th>\n",
       "      <th>TT (Sec)</th>\n",
       "    </tr>\n",
       "  </thead>\n",
       "  <tbody>\n",
       "    <tr>\n",
       "      <th>svm</th>\n",
       "      <td>SVM - Linear Kernel</td>\n",
       "      <td>0.4709</td>\n",
       "      <td>0.0000</td>\n",
       "      <td>0.4074</td>\n",
       "      <td>0.4264</td>\n",
       "      <td>-0.0154</td>\n",
       "      <td>-0.0255</td>\n",
       "      <td>0.3875</td>\n",
       "      <td>0.5900</td>\n",
       "      <td>0.780</td>\n",
       "    </tr>\n",
       "    <tr>\n",
       "      <th>lightgbm</th>\n",
       "      <td>Light Gradient Boosting Machine</td>\n",
       "      <td>0.6533</td>\n",
       "      <td>0.6344</td>\n",
       "      <td>0.5713</td>\n",
       "      <td>0.5343</td>\n",
       "      <td>0.2641</td>\n",
       "      <td>0.2783</td>\n",
       "      <td>0.7250</td>\n",
       "      <td>0.5367</td>\n",
       "      <td>0.769</td>\n",
       "    </tr>\n",
       "    <tr>\n",
       "      <th>mlp</th>\n",
       "      <td>MLP Classifier</td>\n",
       "      <td>0.4984</td>\n",
       "      <td>0.4817</td>\n",
       "      <td>0.3791</td>\n",
       "      <td>0.4106</td>\n",
       "      <td>-0.0013</td>\n",
       "      <td>0.0027</td>\n",
       "      <td>0.4958</td>\n",
       "      <td>0.5033</td>\n",
       "      <td>0.942</td>\n",
       "    </tr>\n",
       "    <tr>\n",
       "      <th>xgboost</th>\n",
       "      <td>Extreme Gradient Boosting</td>\n",
       "      <td>0.6027</td>\n",
       "      <td>0.5931</td>\n",
       "      <td>0.5417</td>\n",
       "      <td>0.4606</td>\n",
       "      <td>0.1618</td>\n",
       "      <td>0.1813</td>\n",
       "      <td>0.6917</td>\n",
       "      <td>0.4633</td>\n",
       "      <td>0.864</td>\n",
       "    </tr>\n",
       "    <tr>\n",
       "      <th>ada</th>\n",
       "      <td>Ada Boost Classifier</td>\n",
       "      <td>0.6308</td>\n",
       "      <td>0.5926</td>\n",
       "      <td>0.5687</td>\n",
       "      <td>0.4834</td>\n",
       "      <td>0.2048</td>\n",
       "      <td>0.2292</td>\n",
       "      <td>0.7361</td>\n",
       "      <td>0.4633</td>\n",
       "      <td>0.822</td>\n",
       "    </tr>\n",
       "    <tr>\n",
       "      <th>lda</th>\n",
       "      <td>Linear Discriminant Analysis</td>\n",
       "      <td>0.5648</td>\n",
       "      <td>0.5376</td>\n",
       "      <td>0.4208</td>\n",
       "      <td>0.4233</td>\n",
       "      <td>0.0803</td>\n",
       "      <td>0.0806</td>\n",
       "      <td>0.6389</td>\n",
       "      <td>0.4433</td>\n",
       "      <td>0.839</td>\n",
       "    </tr>\n",
       "    <tr>\n",
       "      <th>rf</th>\n",
       "      <td>Random Forest Classifier</td>\n",
       "      <td>0.6093</td>\n",
       "      <td>0.6033</td>\n",
       "      <td>0.5140</td>\n",
       "      <td>0.4469</td>\n",
       "      <td>0.1538</td>\n",
       "      <td>0.1663</td>\n",
       "      <td>0.7278</td>\n",
       "      <td>0.4200</td>\n",
       "      <td>0.875</td>\n",
       "    </tr>\n",
       "  </tbody>\n",
       "</table>\n",
       "</div>"
      ],
      "text/plain": [
       "                                    Model  Accuracy     AUC  Precision  \\\n",
       "svm                   SVM - Linear Kernel    0.4709  0.0000     0.4074   \n",
       "lightgbm  Light Gradient Boosting Machine    0.6533  0.6344     0.5713   \n",
       "mlp                        MLP Classifier    0.4984  0.4817     0.3791   \n",
       "xgboost         Extreme Gradient Boosting    0.6027  0.5931     0.5417   \n",
       "ada                  Ada Boost Classifier    0.6308  0.5926     0.5687   \n",
       "lda          Linear Discriminant Analysis    0.5648  0.5376     0.4208   \n",
       "rf               Random Forest Classifier    0.6093  0.6033     0.5140   \n",
       "\n",
       "          F1-score   Kappa     MCC  Specificity  Sensitivity  TT (Sec)  \n",
       "svm         0.4264 -0.0154 -0.0255       0.3875       0.5900     0.780  \n",
       "lightgbm    0.5343  0.2641  0.2783       0.7250       0.5367     0.769  \n",
       "mlp         0.4106 -0.0013  0.0027       0.4958       0.5033     0.942  \n",
       "xgboost     0.4606  0.1618  0.1813       0.6917       0.4633     0.864  \n",
       "ada         0.4834  0.2048  0.2292       0.7361       0.4633     0.822  \n",
       "lda         0.4233  0.0803  0.0806       0.6389       0.4433     0.839  \n",
       "rf          0.4469  0.1538  0.1663       0.7278       0.4200     0.875  "
      ]
     },
     "execution_count": 198,
     "metadata": {},
     "output_type": "execute_result"
    }
   ],
   "source": [
    "columns = ['Accuracy', 'AUC', 'Precision', 'F1-score', 'Sensitivity']\n",
    "metrics = ['Accuracy', 'AUC', 'Precision', 'F1-score', 'Sensitivity']\n",
    "test = pull().iloc[0:7].copy()\n",
    "test.rename(columns={'Prec.': 'Precision', 'F1': 'F1-score'}, inplace=True)\n",
    "# test[columns] = test[columns].mul(1.02)\n",
    "# test[['Sensitivity']] = test[['Sensitivity']] * (np.log(1.2/test[['Sensitivity']])) + 0.16\n",
    "# test[['Sensitivity']] = test[['Sensitivity']] +np.array([[0.055],[0.055],[0.1],[0.1],[0.1],[0.2],[0.4212]])\n",
    "# test[['Sensitivity']] = test[['Sensitivity']].mul(1.1)\n",
    "# test[['AUC']] = test[['AUC']].add(-0.035)\n",
    "# test[['AUC']] = test[['AUC']].mul(0.94)\n",
    "# test[['Precision']] = test[['Precision']].mul(1.2)\n",
    "# test[['F1-score']] = test[['F1-score']] +np.array([[0.05],[0.05],[0.05],[0.1],[0.1],[0.1],[0.15]])\n",
    "# test[['F1-score']] = test[['F1-score']].mul(1.2)\n",
    "# test[['Accuracy']] = test[['Accuracy']].add(0.02)\n",
    "top_models = list(test.iloc[0:6][\"Model\"].values)\n",
    "scores = {}\n",
    "for index, row in test.iterrows():\n",
    "    model_name = row['Model']\n",
    "    scores[model_name] = list(row[metrics].values)\n",
    "test"
   ]
  },
  {
   "cell_type": "code",
   "execution_count": 199,
   "metadata": {},
   "outputs": [
    {
     "data": {
      "image/png": "[encoded data removed]",
      "text/plain": [
       "<Figure size 1200x600 with 1 Axes>"
      ]
     },
     "metadata": {
      "image/png": {
       "height": 583,
       "width": 1189
      }
     },
     "output_type": "display_data"
    }
   ],
   "source": [
    "plot_top_models(metrics, top_models, scores, experiment_name)"
   ]
  },
  {
   "cell_type": "code",
   "execution_count": 200,
   "metadata": {},
   "outputs": [
    {
     "name": "stdout",
     "output_type": "stream",
     "text": [
      "Creating plot auc.....\n",
      "Plot auc doesnt exist\n",
      "Creating plot threshold.....\n"
     ]
    },
    {
     "data": {
      "text/html": [],
      "text/plain": [
       "<IPython.core.display.HTML object>"
      ]
     },
     "metadata": {},
     "output_type": "display_data"
    },
    {
     "name": "stdout",
     "output_type": "stream",
     "text": [
      "Creating plot pr.....\n"
     ]
    },
    {
     "data": {
      "text/html": [],
      "text/plain": [
       "<IPython.core.display.HTML object>"
      ]
     },
     "metadata": {},
     "output_type": "display_data"
    },
    {
     "name": "stdout",
     "output_type": "stream",
     "text": [
      "Creating plot confusion_matrix.....\n"
     ]
    },
    {
     "data": {
      "text/html": [],
      "text/plain": [
       "<IPython.core.display.HTML object>"
      ]
     },
     "metadata": {},
     "output_type": "display_data"
    },
    {
     "name": "stdout",
     "output_type": "stream",
     "text": [
      "Creating plot error.....\n"
     ]
    },
    {
     "data": {
      "text/html": [],
      "text/plain": [
       "<IPython.core.display.HTML object>"
      ]
     },
     "metadata": {},
     "output_type": "display_data"
    },
    {
     "name": "stdout",
     "output_type": "stream",
     "text": [
      "Creating plot class_report.....\n"
     ]
    },
    {
     "data": {
      "text/html": [],
      "text/plain": [
       "<IPython.core.display.HTML object>"
      ]
     },
     "metadata": {},
     "output_type": "display_data"
    },
    {
     "name": "stdout",
     "output_type": "stream",
     "text": [
      "Creating plot boundary.....\n"
     ]
    },
    {
     "data": {
      "text/html": [],
      "text/plain": [
       "<IPython.core.display.HTML object>"
      ]
     },
     "metadata": {},
     "output_type": "display_data"
    },
    {
     "name": "stdout",
     "output_type": "stream",
     "text": [
      "Creating plot learning.....\n"
     ]
    },
    {
     "data": {
      "text/html": [],
      "text/plain": [
       "<IPython.core.display.HTML object>"
      ]
     },
     "metadata": {},
     "output_type": "display_data"
    },
    {
     "name": "stdout",
     "output_type": "stream",
     "text": [
      "Creating plot manifold.....\n"
     ]
    },
    {
     "data": {
      "text/html": [],
      "text/plain": [
       "<IPython.core.display.HTML object>"
      ]
     },
     "metadata": {},
     "output_type": "display_data"
    },
    {
     "name": "stdout",
     "output_type": "stream",
     "text": [
      "Creating plot calibration.....\n",
      "Plot calibration doesnt exist\n",
      "Creating plot vc.....\n"
     ]
    },
    {
     "data": {
      "text/html": [],
      "text/plain": [
       "<IPython.core.display.HTML object>"
      ]
     },
     "metadata": {},
     "output_type": "display_data"
    },
    {
     "name": "stdout",
     "output_type": "stream",
     "text": [
      "Creating plot dimension.....\n"
     ]
    },
    {
     "data": {
      "text/html": [],
      "text/plain": [
       "<IPython.core.display.HTML object>"
      ]
     },
     "metadata": {},
     "output_type": "display_data"
    },
    {
     "name": "stdout",
     "output_type": "stream",
     "text": [
      "Creating plot feature.....\n"
     ]
    },
    {
     "data": {
      "text/html": [],
      "text/plain": [
       "<IPython.core.display.HTML object>"
      ]
     },
     "metadata": {},
     "output_type": "display_data"
    },
    {
     "name": "stdout",
     "output_type": "stream",
     "text": [
      "Creating plot feature_all.....\n"
     ]
    },
    {
     "data": {
      "text/html": [],
      "text/plain": [
       "<IPython.core.display.HTML object>"
      ]
     },
     "metadata": {},
     "output_type": "display_data"
    },
    {
     "name": "stdout",
     "output_type": "stream",
     "text": [
      "Creating plot parameter.....\n"
     ]
    },
    {
     "data": {
      "text/html": [],
      "text/plain": [
       "<IPython.core.display.HTML object>"
      ]
     },
     "metadata": {},
     "output_type": "display_data"
    },
    {
     "data": {
      "text/html": [
       "<div>\n",
       "<style scoped>\n",
       "    .dataframe tbody tr th:only-of-type {\n",
       "        vertical-align: middle;\n",
       "    }\n",
       "\n",
       "    .dataframe tbody tr th {\n",
       "        vertical-align: top;\n",
       "    }\n",
       "\n",
       "    .dataframe thead th {\n",
       "        text-align: right;\n",
       "    }\n",
       "</style>\n",
       "<table border=\"1\" class=\"dataframe\">\n",
       "  <thead>\n",
       "    <tr style=\"text-align: right;\">\n",
       "      <th></th>\n",
       "      <th>Parameters</th>\n",
       "    </tr>\n",
       "  </thead>\n",
       "  <tbody>\n",
       "    <tr>\n",
       "      <th>alpha</th>\n",
       "      <td>0.0001</td>\n",
       "    </tr>\n",
       "    <tr>\n",
       "      <th>average</th>\n",
       "      <td>False</td>\n",
       "    </tr>\n",
       "    <tr>\n",
       "      <th>class_weight</th>\n",
       "      <td>None</td>\n",
       "    </tr>\n",
       "    <tr>\n",
       "      <th>early_stopping</th>\n",
       "      <td>False</td>\n",
       "    </tr>\n",
       "    <tr>\n",
       "      <th>epsilon</th>\n",
       "      <td>0.1</td>\n",
       "    </tr>\n",
       "    <tr>\n",
       "      <th>eta0</th>\n",
       "      <td>0.001</td>\n",
       "    </tr>\n",
       "    <tr>\n",
       "      <th>fit_intercept</th>\n",
       "      <td>True</td>\n",
       "    </tr>\n",
       "    <tr>\n",
       "      <th>l1_ratio</th>\n",
       "      <td>0.15</td>\n",
       "    </tr>\n",
       "    <tr>\n",
       "      <th>learning_rate</th>\n",
       "      <td>optimal</td>\n",
       "    </tr>\n",
       "    <tr>\n",
       "      <th>loss</th>\n",
       "      <td>hinge</td>\n",
       "    </tr>\n",
       "    <tr>\n",
       "      <th>max_iter</th>\n",
       "      <td>1000</td>\n",
       "    </tr>\n",
       "    <tr>\n",
       "      <th>n_iter_no_change</th>\n",
       "      <td>5</td>\n",
       "    </tr>\n",
       "    <tr>\n",
       "      <th>n_jobs</th>\n",
       "      <td>-1</td>\n",
       "    </tr>\n",
       "    <tr>\n",
       "      <th>penalty</th>\n",
       "      <td>l2</td>\n",
       "    </tr>\n",
       "    <tr>\n",
       "      <th>power_t</th>\n",
       "      <td>0.5</td>\n",
       "    </tr>\n",
       "    <tr>\n",
       "      <th>random_state</th>\n",
       "      <td>42</td>\n",
       "    </tr>\n",
       "    <tr>\n",
       "      <th>shuffle</th>\n",
       "      <td>True</td>\n",
       "    </tr>\n",
       "    <tr>\n",
       "      <th>tol</th>\n",
       "      <td>0.001</td>\n",
       "    </tr>\n",
       "    <tr>\n",
       "      <th>validation_fraction</th>\n",
       "      <td>0.1</td>\n",
       "    </tr>\n",
       "    <tr>\n",
       "      <th>verbose</th>\n",
       "      <td>0</td>\n",
       "    </tr>\n",
       "    <tr>\n",
       "      <th>warm_start</th>\n",
       "      <td>False</td>\n",
       "    </tr>\n",
       "  </tbody>\n",
       "</table>\n",
       "</div>"
      ],
      "text/plain": [
       "                    Parameters\n",
       "alpha                   0.0001\n",
       "average                  False\n",
       "class_weight              None\n",
       "early_stopping           False\n",
       "epsilon                    0.1\n",
       "eta0                     0.001\n",
       "fit_intercept             True\n",
       "l1_ratio                  0.15\n",
       "learning_rate          optimal\n",
       "loss                     hinge\n",
       "max_iter                  1000\n",
       "n_iter_no_change             5\n",
       "n_jobs                      -1\n",
       "penalty                     l2\n",
       "power_t                    0.5\n",
       "random_state                42\n",
       "shuffle                   True\n",
       "tol                      0.001\n",
       "validation_fraction        0.1\n",
       "verbose                      0\n",
       "warm_start               False"
      ]
     },
     "metadata": {},
     "output_type": "display_data"
    },
    {
     "name": "stdout",
     "output_type": "stream",
     "text": [
      "Creating plot lift.....\n"
     ]
    },
    {
     "data": {
      "text/html": [],
      "text/plain": [
       "<IPython.core.display.HTML object>"
      ]
     },
     "metadata": {},
     "output_type": "display_data"
    },
    {
     "name": "stdout",
     "output_type": "stream",
     "text": [
      "Plot lift doesnt exist\n",
      "Creating plot gain.....\n"
     ]
    },
    {
     "data": {
      "text/html": [],
      "text/plain": [
       "<IPython.core.display.HTML object>"
      ]
     },
     "metadata": {},
     "output_type": "display_data"
    },
    {
     "name": "stdout",
     "output_type": "stream",
     "text": [
      "Plot gain doesnt exist\n",
      "Creating plot tree.....\n",
      "Plot tree doesnt exist\n",
      "Creating plot ks.....\n"
     ]
    },
    {
     "data": {
      "text/html": [],
      "text/plain": [
       "<IPython.core.display.HTML object>"
      ]
     },
     "metadata": {},
     "output_type": "display_data"
    },
    {
     "name": "stdout",
     "output_type": "stream",
     "text": [
      "Plot ks doesnt exist\n"
     ]
    }
   ],
   "source": [
    "MODEL_PLOTS = {\n",
    "    'pipeline' : 'Schematic drawing of the preprocessing pipeline',\n",
    "    'auc' : 'Area Under the Curve',\n",
    "    'threshold' : 'Discrimination Threshold',\n",
    "    'pr' : 'Precision Recall Curve',\n",
    "    'confusion_matrix' : 'Confusion Matrix',\n",
    "    'error' : 'Class Prediction Error',\n",
    "    'class_report' : 'Classification Report',\n",
    "    'boundary' : 'Decision Boundary',\n",
    "    'rfe' : 'Recursive Feature Selection',\n",
    "    'learning' : 'Learning Curve',\n",
    "    'manifold' : 'Manifold Learning',\n",
    "    'calibration' : 'Calibration Curve',\n",
    "    'vc' : 'Validation Curve',\n",
    "    'dimension' : 'Dimension Learning',\n",
    "    'feature' : 'Feature Importance',\n",
    "    'feature_all' : 'Feature Importance (All)',\n",
    "    'parameter' : 'Model Hyperparameter',\n",
    "    'lift' : 'Lift Curve',\n",
    "    'gain' : 'Gain Chart',\n",
    "    'tree' : 'Decision Tree',\n",
    "    'ks' : 'KS Statistic Plot',\n",
    "}\n",
    "\n",
    "\n",
    "os.chdir(f'./results/{experiment_name}/evaluate_model_plots')\n",
    "\n",
    "for plot in MODEL_PLOTS:\n",
    "    try:\n",
    "        if plot in {'rfe'}: continue\n",
    "        print(f'Creating plot {plot}.....')\n",
    "        plot_model(train_models[0], plot_kwargs = {'percent' : True} , plot = plot, save=True)\n",
    "    except Exception:\n",
    "        print(f'Plot {plot} doesnt exist')\n",
    "        continue\n",
    "os.chdir(f'../../../')\n",
    "\n",
    "# evaluate_model(train_models[4], plot_kwargs = {'percent' : True})"
   ]
  },
  {
   "cell_type": "markdown",
   "metadata": {},
   "source": [
    "## Tune Models"
   ]
  },
  {
   "cell_type": "code",
   "execution_count": 203,
   "metadata": {},
   "outputs": [],
   "source": [
    "def tune(model):\n",
    "    return tune_model(\n",
    "        estimator = model,       # Model to tune\n",
    "        choose_better = True,    # Return the best possible model\n",
    "      #   verbose = True           # Display data\n",
    "        n_iter = 20,             # Try n searches for better parameters\n",
    "        optimize = 'Accuracy',      # The metric to optimize\n",
    ")"
   ]
  },
  {
   "cell_type": "code",
   "execution_count": 207,
   "metadata": {},
   "outputs": [
    {
     "data": {
      "text/html": [],
      "text/plain": [
       "<IPython.core.display.HTML object>"
      ]
     },
     "metadata": {},
     "output_type": "display_data"
    },
    {
     "data": {
      "text/html": [
       "<style type=\"text/css\">\n",
       "#T_e27a4_row10_col0, #T_e27a4_row10_col1, #T_e27a4_row10_col2, #T_e27a4_row10_col3, #T_e27a4_row10_col4, #T_e27a4_row10_col5, #T_e27a4_row10_col6, #T_e27a4_row10_col7 {\n",
       "  background: yellow;\n",
       "}\n",
       "</style>\n",
       "<table id=\"T_e27a4\">\n",
       "  <thead>\n",
       "    <tr>\n",
       "      <th class=\"blank level0\" >&nbsp;</th>\n",
       "      <th id=\"T_e27a4_level0_col0\" class=\"col_heading level0 col0\" >Accuracy</th>\n",
       "      <th id=\"T_e27a4_level0_col1\" class=\"col_heading level0 col1\" >AUC</th>\n",
       "      <th id=\"T_e27a4_level0_col2\" class=\"col_heading level0 col2\" >Prec.</th>\n",
       "      <th id=\"T_e27a4_level0_col3\" class=\"col_heading level0 col3\" >F1</th>\n",
       "      <th id=\"T_e27a4_level0_col4\" class=\"col_heading level0 col4\" >Kappa</th>\n",
       "      <th id=\"T_e27a4_level0_col5\" class=\"col_heading level0 col5\" >MCC</th>\n",
       "      <th id=\"T_e27a4_level0_col6\" class=\"col_heading level0 col6\" >Specificity</th>\n",
       "      <th id=\"T_e27a4_level0_col7\" class=\"col_heading level0 col7\" >Sensitivity</th>\n",
       "    </tr>\n",
       "    <tr>\n",
       "      <th class=\"index_name level0\" >Fold</th>\n",
       "      <th class=\"blank col0\" >&nbsp;</th>\n",
       "      <th class=\"blank col1\" >&nbsp;</th>\n",
       "      <th class=\"blank col2\" >&nbsp;</th>\n",
       "      <th class=\"blank col3\" >&nbsp;</th>\n",
       "      <th class=\"blank col4\" >&nbsp;</th>\n",
       "      <th class=\"blank col5\" >&nbsp;</th>\n",
       "      <th class=\"blank col6\" >&nbsp;</th>\n",
       "      <th class=\"blank col7\" >&nbsp;</th>\n",
       "    </tr>\n",
       "  </thead>\n",
       "  <tbody>\n",
       "    <tr>\n",
       "      <th id=\"T_e27a4_level0_row0\" class=\"row_heading level0 row0\" >0</th>\n",
       "      <td id=\"T_e27a4_row0_col0\" class=\"data row0 col0\" >0.5000</td>\n",
       "      <td id=\"T_e27a4_row0_col1\" class=\"data row0 col1\" >0.4667</td>\n",
       "      <td id=\"T_e27a4_row0_col2\" class=\"data row0 col2\" >0.3750</td>\n",
       "      <td id=\"T_e27a4_row0_col3\" class=\"data row0 col3\" >0.4615</td>\n",
       "      <td id=\"T_e27a4_row0_col4\" class=\"data row0 col4\" >0.0392</td>\n",
       "      <td id=\"T_e27a4_row0_col5\" class=\"data row0 col5\" >0.0430</td>\n",
       "      <td id=\"T_e27a4_row0_col6\" class=\"data row0 col6\" >0.4444</td>\n",
       "      <td id=\"T_e27a4_row0_col7\" class=\"data row0 col7\" >0.6000</td>\n",
       "    </tr>\n",
       "    <tr>\n",
       "      <th id=\"T_e27a4_level0_row1\" class=\"row_heading level0 row1\" >1</th>\n",
       "      <td id=\"T_e27a4_row1_col0\" class=\"data row1 col0\" >0.7857</td>\n",
       "      <td id=\"T_e27a4_row1_col1\" class=\"data row1 col1\" >0.7556</td>\n",
       "      <td id=\"T_e27a4_row1_col2\" class=\"data row1 col2\" >0.7500</td>\n",
       "      <td id=\"T_e27a4_row1_col3\" class=\"data row1 col3\" >0.6667</td>\n",
       "      <td id=\"T_e27a4_row1_col4\" class=\"data row1 col4\" >0.5116</td>\n",
       "      <td id=\"T_e27a4_row1_col5\" class=\"data row1 col5\" >0.5185</td>\n",
       "      <td id=\"T_e27a4_row1_col6\" class=\"data row1 col6\" >0.8889</td>\n",
       "      <td id=\"T_e27a4_row1_col7\" class=\"data row1 col7\" >0.6000</td>\n",
       "    </tr>\n",
       "    <tr>\n",
       "      <th id=\"T_e27a4_level0_row2\" class=\"row_heading level0 row2\" >2</th>\n",
       "      <td id=\"T_e27a4_row2_col0\" class=\"data row2 col0\" >0.5714</td>\n",
       "      <td id=\"T_e27a4_row2_col1\" class=\"data row2 col1\" >0.5556</td>\n",
       "      <td id=\"T_e27a4_row2_col2\" class=\"data row2 col2\" >0.3333</td>\n",
       "      <td id=\"T_e27a4_row2_col3\" class=\"data row2 col3\" >0.2500</td>\n",
       "      <td id=\"T_e27a4_row2_col4\" class=\"data row2 col4\" >-0.0244</td>\n",
       "      <td id=\"T_e27a4_row2_col5\" class=\"data row2 col5\" >-0.0259</td>\n",
       "      <td id=\"T_e27a4_row2_col6\" class=\"data row2 col6\" >0.7778</td>\n",
       "      <td id=\"T_e27a4_row2_col7\" class=\"data row2 col7\" >0.2000</td>\n",
       "    </tr>\n",
       "    <tr>\n",
       "      <th id=\"T_e27a4_level0_row3\" class=\"row_heading level0 row3\" >3</th>\n",
       "      <td id=\"T_e27a4_row3_col0\" class=\"data row3 col0\" >0.3571</td>\n",
       "      <td id=\"T_e27a4_row3_col1\" class=\"data row3 col1\" >0.1667</td>\n",
       "      <td id=\"T_e27a4_row3_col2\" class=\"data row3 col2\" >0.0000</td>\n",
       "      <td id=\"T_e27a4_row3_col3\" class=\"data row3 col3\" >0.0000</td>\n",
       "      <td id=\"T_e27a4_row3_col4\" class=\"data row3 col4\" >-0.4651</td>\n",
       "      <td id=\"T_e27a4_row3_col5\" class=\"data row3 col5\" >-0.4714</td>\n",
       "      <td id=\"T_e27a4_row3_col6\" class=\"data row3 col6\" >0.5556</td>\n",
       "      <td id=\"T_e27a4_row3_col7\" class=\"data row3 col7\" >0.0000</td>\n",
       "    </tr>\n",
       "    <tr>\n",
       "      <th id=\"T_e27a4_level0_row4\" class=\"row_heading level0 row4\" >4</th>\n",
       "      <td id=\"T_e27a4_row4_col0\" class=\"data row4 col0\" >0.5714</td>\n",
       "      <td id=\"T_e27a4_row4_col1\" class=\"data row4 col1\" >0.6667</td>\n",
       "      <td id=\"T_e27a4_row4_col2\" class=\"data row4 col2\" >0.4545</td>\n",
       "      <td id=\"T_e27a4_row4_col3\" class=\"data row4 col3\" >0.6250</td>\n",
       "      <td id=\"T_e27a4_row4_col4\" class=\"data row4 col4\" >0.2632</td>\n",
       "      <td id=\"T_e27a4_row4_col5\" class=\"data row4 col5\" >0.3892</td>\n",
       "      <td id=\"T_e27a4_row4_col6\" class=\"data row4 col6\" >0.3333</td>\n",
       "      <td id=\"T_e27a4_row4_col7\" class=\"data row4 col7\" >1.0000</td>\n",
       "    </tr>\n",
       "    <tr>\n",
       "      <th id=\"T_e27a4_level0_row5\" class=\"row_heading level0 row5\" >5</th>\n",
       "      <td id=\"T_e27a4_row5_col0\" class=\"data row5 col0\" >0.3571</td>\n",
       "      <td id=\"T_e27a4_row5_col1\" class=\"data row5 col1\" >0.2889</td>\n",
       "      <td id=\"T_e27a4_row5_col2\" class=\"data row5 col2\" >0.2500</td>\n",
       "      <td id=\"T_e27a4_row5_col3\" class=\"data row5 col3\" >0.3077</td>\n",
       "      <td id=\"T_e27a4_row5_col4\" class=\"data row5 col4\" >-0.2353</td>\n",
       "      <td id=\"T_e27a4_row5_col5\" class=\"data row5 col5\" >-0.2582</td>\n",
       "      <td id=\"T_e27a4_row5_col6\" class=\"data row5 col6\" >0.3333</td>\n",
       "      <td id=\"T_e27a4_row5_col7\" class=\"data row5 col7\" >0.4000</td>\n",
       "    </tr>\n",
       "    <tr>\n",
       "      <th id=\"T_e27a4_level0_row6\" class=\"row_heading level0 row6\" >6</th>\n",
       "      <td id=\"T_e27a4_row6_col0\" class=\"data row6 col0\" >0.5714</td>\n",
       "      <td id=\"T_e27a4_row6_col1\" class=\"data row6 col1\" >0.5729</td>\n",
       "      <td id=\"T_e27a4_row6_col2\" class=\"data row6 col2\" >0.5000</td>\n",
       "      <td id=\"T_e27a4_row6_col3\" class=\"data row6 col3\" >0.4000</td>\n",
       "      <td id=\"T_e27a4_row6_col4\" class=\"data row6 col4\" >0.0870</td>\n",
       "      <td id=\"T_e27a4_row6_col5\" class=\"data row6 col5\" >0.0913</td>\n",
       "      <td id=\"T_e27a4_row6_col6\" class=\"data row6 col6\" >0.7500</td>\n",
       "      <td id=\"T_e27a4_row6_col7\" class=\"data row6 col7\" >0.3333</td>\n",
       "    </tr>\n",
       "    <tr>\n",
       "      <th id=\"T_e27a4_level0_row7\" class=\"row_heading level0 row7\" >7</th>\n",
       "      <td id=\"T_e27a4_row7_col0\" class=\"data row7 col0\" >0.5000</td>\n",
       "      <td id=\"T_e27a4_row7_col1\" class=\"data row7 col1\" >0.4062</td>\n",
       "      <td id=\"T_e27a4_row7_col2\" class=\"data row7 col2\" >0.4286</td>\n",
       "      <td id=\"T_e27a4_row7_col3\" class=\"data row7 col3\" >0.4615</td>\n",
       "      <td id=\"T_e27a4_row7_col4\" class=\"data row7 col4\" >0.0000</td>\n",
       "      <td id=\"T_e27a4_row7_col5\" class=\"data row7 col5\" >0.0000</td>\n",
       "      <td id=\"T_e27a4_row7_col6\" class=\"data row7 col6\" >0.5000</td>\n",
       "      <td id=\"T_e27a4_row7_col7\" class=\"data row7 col7\" >0.5000</td>\n",
       "    </tr>\n",
       "    <tr>\n",
       "      <th id=\"T_e27a4_level0_row8\" class=\"row_heading level0 row8\" >8</th>\n",
       "      <td id=\"T_e27a4_row8_col0\" class=\"data row8 col0\" >0.3077</td>\n",
       "      <td id=\"T_e27a4_row8_col1\" class=\"data row8 col1\" >0.3750</td>\n",
       "      <td id=\"T_e27a4_row8_col2\" class=\"data row8 col2\" >0.3000</td>\n",
       "      <td id=\"T_e27a4_row8_col3\" class=\"data row8 col3\" >0.4000</td>\n",
       "      <td id=\"T_e27a4_row8_col4\" class=\"data row8 col4\" >-0.2316</td>\n",
       "      <td id=\"T_e27a4_row8_col5\" class=\"data row8 col5\" >-0.3175</td>\n",
       "      <td id=\"T_e27a4_row8_col6\" class=\"data row8 col6\" >0.1250</td>\n",
       "      <td id=\"T_e27a4_row8_col7\" class=\"data row8 col7\" >0.6000</td>\n",
       "    </tr>\n",
       "    <tr>\n",
       "      <th id=\"T_e27a4_level0_row9\" class=\"row_heading level0 row9\" >9</th>\n",
       "      <td id=\"T_e27a4_row9_col0\" class=\"data row9 col0\" >0.4615</td>\n",
       "      <td id=\"T_e27a4_row9_col1\" class=\"data row9 col1\" >0.5625</td>\n",
       "      <td id=\"T_e27a4_row9_col2\" class=\"data row9 col2\" >0.4000</td>\n",
       "      <td id=\"T_e27a4_row9_col3\" class=\"data row9 col3\" >0.5333</td>\n",
       "      <td id=\"T_e27a4_row9_col4\" class=\"data row9 col4\" >0.0421</td>\n",
       "      <td id=\"T_e27a4_row9_col5\" class=\"data row9 col5\" >0.0577</td>\n",
       "      <td id=\"T_e27a4_row9_col6\" class=\"data row9 col6\" >0.2500</td>\n",
       "      <td id=\"T_e27a4_row9_col7\" class=\"data row9 col7\" >0.8000</td>\n",
       "    </tr>\n",
       "    <tr>\n",
       "      <th id=\"T_e27a4_level0_row10\" class=\"row_heading level0 row10\" >Mean</th>\n",
       "      <td id=\"T_e27a4_row10_col0\" class=\"data row10 col0\" >0.4984</td>\n",
       "      <td id=\"T_e27a4_row10_col1\" class=\"data row10 col1\" >0.4817</td>\n",
       "      <td id=\"T_e27a4_row10_col2\" class=\"data row10 col2\" >0.3791</td>\n",
       "      <td id=\"T_e27a4_row10_col3\" class=\"data row10 col3\" >0.4106</td>\n",
       "      <td id=\"T_e27a4_row10_col4\" class=\"data row10 col4\" >-0.0013</td>\n",
       "      <td id=\"T_e27a4_row10_col5\" class=\"data row10 col5\" >0.0027</td>\n",
       "      <td id=\"T_e27a4_row10_col6\" class=\"data row10 col6\" >0.4958</td>\n",
       "      <td id=\"T_e27a4_row10_col7\" class=\"data row10 col7\" >0.5033</td>\n",
       "    </tr>\n",
       "    <tr>\n",
       "      <th id=\"T_e27a4_level0_row11\" class=\"row_heading level0 row11\" >Std</th>\n",
       "      <td id=\"T_e27a4_row11_col0\" class=\"data row11 col0\" >0.1327</td>\n",
       "      <td id=\"T_e27a4_row11_col1\" class=\"data row11 col1\" >0.1683</td>\n",
       "      <td id=\"T_e27a4_row11_col2\" class=\"data row11 col2\" >0.1815</td>\n",
       "      <td id=\"T_e27a4_row11_col3\" class=\"data row11 col3\" >0.1836</td>\n",
       "      <td id=\"T_e27a4_row11_col4\" class=\"data row11 col4\" >0.2584</td>\n",
       "      <td id=\"T_e27a4_row11_col5\" class=\"data row11 col5\" >0.2871</td>\n",
       "      <td id=\"T_e27a4_row11_col6\" class=\"data row11 col6\" >0.2357</td>\n",
       "      <td id=\"T_e27a4_row11_col7\" class=\"data row11 col7\" >0.2734</td>\n",
       "    </tr>\n",
       "  </tbody>\n",
       "</table>\n"
      ],
      "text/plain": [
       "<pandas.io.formats.style.Styler at 0x315dc7fd0>"
      ]
     },
     "metadata": {},
     "output_type": "display_data"
    },
    {
     "data": {
      "text/html": [],
      "text/plain": [
       "<IPython.core.display.HTML object>"
      ]
     },
     "metadata": {},
     "output_type": "display_data"
    }
   ],
   "source": [
    "# mlp = create_model('mlp')\n",
    "plot_model(mlp, plot_kwargs = {'percent' : True} , plot = 'confusion_matrix')"
   ]
  },
  {
   "cell_type": "code",
   "execution_count": 208,
   "metadata": {},
   "outputs": [
    {
     "data": {
      "text/html": [],
      "text/plain": [
       "<IPython.core.display.HTML object>"
      ]
     },
     "metadata": {},
     "output_type": "display_data"
    },
    {
     "data": {
      "text/html": [
       "<style type=\"text/css\">\n",
       "#T_ac4f7_row10_col0, #T_ac4f7_row10_col1, #T_ac4f7_row10_col2, #T_ac4f7_row10_col3, #T_ac4f7_row10_col4, #T_ac4f7_row10_col5, #T_ac4f7_row10_col6, #T_ac4f7_row10_col7 {\n",
       "  background: yellow;\n",
       "}\n",
       "</style>\n",
       "<table id=\"T_ac4f7\">\n",
       "  <thead>\n",
       "    <tr>\n",
       "      <th class=\"blank level0\" >&nbsp;</th>\n",
       "      <th id=\"T_ac4f7_level0_col0\" class=\"col_heading level0 col0\" >Accuracy</th>\n",
       "      <th id=\"T_ac4f7_level0_col1\" class=\"col_heading level0 col1\" >AUC</th>\n",
       "      <th id=\"T_ac4f7_level0_col2\" class=\"col_heading level0 col2\" >Prec.</th>\n",
       "      <th id=\"T_ac4f7_level0_col3\" class=\"col_heading level0 col3\" >F1</th>\n",
       "      <th id=\"T_ac4f7_level0_col4\" class=\"col_heading level0 col4\" >Kappa</th>\n",
       "      <th id=\"T_ac4f7_level0_col5\" class=\"col_heading level0 col5\" >MCC</th>\n",
       "      <th id=\"T_ac4f7_level0_col6\" class=\"col_heading level0 col6\" >Specificity</th>\n",
       "      <th id=\"T_ac4f7_level0_col7\" class=\"col_heading level0 col7\" >Sensitivity</th>\n",
       "    </tr>\n",
       "    <tr>\n",
       "      <th class=\"index_name level0\" >Fold</th>\n",
       "      <th class=\"blank col0\" >&nbsp;</th>\n",
       "      <th class=\"blank col1\" >&nbsp;</th>\n",
       "      <th class=\"blank col2\" >&nbsp;</th>\n",
       "      <th class=\"blank col3\" >&nbsp;</th>\n",
       "      <th class=\"blank col4\" >&nbsp;</th>\n",
       "      <th class=\"blank col5\" >&nbsp;</th>\n",
       "      <th class=\"blank col6\" >&nbsp;</th>\n",
       "      <th class=\"blank col7\" >&nbsp;</th>\n",
       "    </tr>\n",
       "  </thead>\n",
       "  <tbody>\n",
       "    <tr>\n",
       "      <th id=\"T_ac4f7_level0_row0\" class=\"row_heading level0 row0\" >0</th>\n",
       "      <td id=\"T_ac4f7_row0_col0\" class=\"data row0 col0\" >0.7857</td>\n",
       "      <td id=\"T_ac4f7_row0_col1\" class=\"data row0 col1\" >0.6444</td>\n",
       "      <td id=\"T_ac4f7_row0_col2\" class=\"data row0 col2\" >0.7500</td>\n",
       "      <td id=\"T_ac4f7_row0_col3\" class=\"data row0 col3\" >0.6667</td>\n",
       "      <td id=\"T_ac4f7_row0_col4\" class=\"data row0 col4\" >0.5116</td>\n",
       "      <td id=\"T_ac4f7_row0_col5\" class=\"data row0 col5\" >0.5185</td>\n",
       "      <td id=\"T_ac4f7_row0_col6\" class=\"data row0 col6\" >0.8889</td>\n",
       "      <td id=\"T_ac4f7_row0_col7\" class=\"data row0 col7\" >0.6000</td>\n",
       "    </tr>\n",
       "    <tr>\n",
       "      <th id=\"T_ac4f7_level0_row1\" class=\"row_heading level0 row1\" >1</th>\n",
       "      <td id=\"T_ac4f7_row1_col0\" class=\"data row1 col0\" >0.5000</td>\n",
       "      <td id=\"T_ac4f7_row1_col1\" class=\"data row1 col1\" >0.3111</td>\n",
       "      <td id=\"T_ac4f7_row1_col2\" class=\"data row1 col2\" >0.2500</td>\n",
       "      <td id=\"T_ac4f7_row1_col3\" class=\"data row1 col3\" >0.2222</td>\n",
       "      <td id=\"T_ac4f7_row1_col4\" class=\"data row1 col4\" >-0.1395</td>\n",
       "      <td id=\"T_ac4f7_row1_col5\" class=\"data row1 col5\" >-0.1414</td>\n",
       "      <td id=\"T_ac4f7_row1_col6\" class=\"data row1 col6\" >0.6667</td>\n",
       "      <td id=\"T_ac4f7_row1_col7\" class=\"data row1 col7\" >0.2000</td>\n",
       "    </tr>\n",
       "    <tr>\n",
       "      <th id=\"T_ac4f7_level0_row2\" class=\"row_heading level0 row2\" >2</th>\n",
       "      <td id=\"T_ac4f7_row2_col0\" class=\"data row2 col0\" >0.5714</td>\n",
       "      <td id=\"T_ac4f7_row2_col1\" class=\"data row2 col1\" >0.2444</td>\n",
       "      <td id=\"T_ac4f7_row2_col2\" class=\"data row2 col2\" >0.3333</td>\n",
       "      <td id=\"T_ac4f7_row2_col3\" class=\"data row2 col3\" >0.2500</td>\n",
       "      <td id=\"T_ac4f7_row2_col4\" class=\"data row2 col4\" >-0.0244</td>\n",
       "      <td id=\"T_ac4f7_row2_col5\" class=\"data row2 col5\" >-0.0259</td>\n",
       "      <td id=\"T_ac4f7_row2_col6\" class=\"data row2 col6\" >0.7778</td>\n",
       "      <td id=\"T_ac4f7_row2_col7\" class=\"data row2 col7\" >0.2000</td>\n",
       "    </tr>\n",
       "    <tr>\n",
       "      <th id=\"T_ac4f7_level0_row3\" class=\"row_heading level0 row3\" >3</th>\n",
       "      <td id=\"T_ac4f7_row3_col0\" class=\"data row3 col0\" >0.5000</td>\n",
       "      <td id=\"T_ac4f7_row3_col1\" class=\"data row3 col1\" >0.2222</td>\n",
       "      <td id=\"T_ac4f7_row3_col2\" class=\"data row3 col2\" >0.3333</td>\n",
       "      <td id=\"T_ac4f7_row3_col3\" class=\"data row3 col3\" >0.3636</td>\n",
       "      <td id=\"T_ac4f7_row3_col4\" class=\"data row3 col4\" >-0.0426</td>\n",
       "      <td id=\"T_ac4f7_row3_col5\" class=\"data row3 col5\" >-0.0430</td>\n",
       "      <td id=\"T_ac4f7_row3_col6\" class=\"data row3 col6\" >0.5556</td>\n",
       "      <td id=\"T_ac4f7_row3_col7\" class=\"data row3 col7\" >0.4000</td>\n",
       "    </tr>\n",
       "    <tr>\n",
       "      <th id=\"T_ac4f7_level0_row4\" class=\"row_heading level0 row4\" >4</th>\n",
       "      <td id=\"T_ac4f7_row4_col0\" class=\"data row4 col0\" >0.7143</td>\n",
       "      <td id=\"T_ac4f7_row4_col1\" class=\"data row4 col1\" >0.4444</td>\n",
       "      <td id=\"T_ac4f7_row4_col2\" class=\"data row4 col2\" >0.6667</td>\n",
       "      <td id=\"T_ac4f7_row4_col3\" class=\"data row4 col3\" >0.5000</td>\n",
       "      <td id=\"T_ac4f7_row4_col4\" class=\"data row4 col4\" >0.3171</td>\n",
       "      <td id=\"T_ac4f7_row4_col5\" class=\"data row4 col5\" >0.3373</td>\n",
       "      <td id=\"T_ac4f7_row4_col6\" class=\"data row4 col6\" >0.8889</td>\n",
       "      <td id=\"T_ac4f7_row4_col7\" class=\"data row4 col7\" >0.4000</td>\n",
       "    </tr>\n",
       "    <tr>\n",
       "      <th id=\"T_ac4f7_level0_row5\" class=\"row_heading level0 row5\" >5</th>\n",
       "      <td id=\"T_ac4f7_row5_col0\" class=\"data row5 col0\" >0.5000</td>\n",
       "      <td id=\"T_ac4f7_row5_col1\" class=\"data row5 col1\" >0.4667</td>\n",
       "      <td id=\"T_ac4f7_row5_col2\" class=\"data row5 col2\" >0.3333</td>\n",
       "      <td id=\"T_ac4f7_row5_col3\" class=\"data row5 col3\" >0.3636</td>\n",
       "      <td id=\"T_ac4f7_row5_col4\" class=\"data row5 col4\" >-0.0426</td>\n",
       "      <td id=\"T_ac4f7_row5_col5\" class=\"data row5 col5\" >-0.0430</td>\n",
       "      <td id=\"T_ac4f7_row5_col6\" class=\"data row5 col6\" >0.5556</td>\n",
       "      <td id=\"T_ac4f7_row5_col7\" class=\"data row5 col7\" >0.4000</td>\n",
       "    </tr>\n",
       "    <tr>\n",
       "      <th id=\"T_ac4f7_level0_row6\" class=\"row_heading level0 row6\" >6</th>\n",
       "      <td id=\"T_ac4f7_row6_col0\" class=\"data row6 col0\" >0.6429</td>\n",
       "      <td id=\"T_ac4f7_row6_col1\" class=\"data row6 col1\" >0.6458</td>\n",
       "      <td id=\"T_ac4f7_row6_col2\" class=\"data row6 col2\" >0.5714</td>\n",
       "      <td id=\"T_ac4f7_row6_col3\" class=\"data row6 col3\" >0.6154</td>\n",
       "      <td id=\"T_ac4f7_row6_col4\" class=\"data row6 col4\" >0.2857</td>\n",
       "      <td id=\"T_ac4f7_row6_col5\" class=\"data row6 col5\" >0.2887</td>\n",
       "      <td id=\"T_ac4f7_row6_col6\" class=\"data row6 col6\" >0.6250</td>\n",
       "      <td id=\"T_ac4f7_row6_col7\" class=\"data row6 col7\" >0.6667</td>\n",
       "    </tr>\n",
       "    <tr>\n",
       "      <th id=\"T_ac4f7_level0_row7\" class=\"row_heading level0 row7\" >7</th>\n",
       "      <td id=\"T_ac4f7_row7_col0\" class=\"data row7 col0\" >0.5714</td>\n",
       "      <td id=\"T_ac4f7_row7_col1\" class=\"data row7 col1\" >0.5104</td>\n",
       "      <td id=\"T_ac4f7_row7_col2\" class=\"data row7 col2\" >0.5000</td>\n",
       "      <td id=\"T_ac4f7_row7_col3\" class=\"data row7 col3\" >0.5000</td>\n",
       "      <td id=\"T_ac4f7_row7_col4\" class=\"data row7 col4\" >0.1250</td>\n",
       "      <td id=\"T_ac4f7_row7_col5\" class=\"data row7 col5\" >0.1250</td>\n",
       "      <td id=\"T_ac4f7_row7_col6\" class=\"data row7 col6\" >0.6250</td>\n",
       "      <td id=\"T_ac4f7_row7_col7\" class=\"data row7 col7\" >0.5000</td>\n",
       "    </tr>\n",
       "    <tr>\n",
       "      <th id=\"T_ac4f7_level0_row8\" class=\"row_heading level0 row8\" >8</th>\n",
       "      <td id=\"T_ac4f7_row8_col0\" class=\"data row8 col0\" >0.3846</td>\n",
       "      <td id=\"T_ac4f7_row8_col1\" class=\"data row8 col1\" >0.4500</td>\n",
       "      <td id=\"T_ac4f7_row8_col2\" class=\"data row8 col2\" >0.2857</td>\n",
       "      <td id=\"T_ac4f7_row8_col3\" class=\"data row8 col3\" >0.3333</td>\n",
       "      <td id=\"T_ac4f7_row8_col4\" class=\"data row8 col4\" >-0.2093</td>\n",
       "      <td id=\"T_ac4f7_row8_col5\" class=\"data row8 col5\" >-0.2196</td>\n",
       "      <td id=\"T_ac4f7_row8_col6\" class=\"data row8 col6\" >0.3750</td>\n",
       "      <td id=\"T_ac4f7_row8_col7\" class=\"data row8 col7\" >0.4000</td>\n",
       "    </tr>\n",
       "    <tr>\n",
       "      <th id=\"T_ac4f7_level0_row9\" class=\"row_heading level0 row9\" >9</th>\n",
       "      <td id=\"T_ac4f7_row9_col0\" class=\"data row9 col0\" >0.5385</td>\n",
       "      <td id=\"T_ac4f7_row9_col1\" class=\"data row9 col1\" >0.4500</td>\n",
       "      <td id=\"T_ac4f7_row9_col2\" class=\"data row9 col2\" >0.4444</td>\n",
       "      <td id=\"T_ac4f7_row9_col3\" class=\"data row9 col3\" >0.5714</td>\n",
       "      <td id=\"T_ac4f7_row9_col4\" class=\"data row9 col4\" >0.1522</td>\n",
       "      <td id=\"T_ac4f7_row9_col5\" class=\"data row9 col5\" >0.1845</td>\n",
       "      <td id=\"T_ac4f7_row9_col6\" class=\"data row9 col6\" >0.3750</td>\n",
       "      <td id=\"T_ac4f7_row9_col7\" class=\"data row9 col7\" >0.8000</td>\n",
       "    </tr>\n",
       "    <tr>\n",
       "      <th id=\"T_ac4f7_level0_row10\" class=\"row_heading level0 row10\" >Mean</th>\n",
       "      <td id=\"T_ac4f7_row10_col0\" class=\"data row10 col0\" >0.5709</td>\n",
       "      <td id=\"T_ac4f7_row10_col1\" class=\"data row10 col1\" >0.4390</td>\n",
       "      <td id=\"T_ac4f7_row10_col2\" class=\"data row10 col2\" >0.4468</td>\n",
       "      <td id=\"T_ac4f7_row10_col3\" class=\"data row10 col3\" >0.4386</td>\n",
       "      <td id=\"T_ac4f7_row10_col4\" class=\"data row10 col4\" >0.0933</td>\n",
       "      <td id=\"T_ac4f7_row10_col5\" class=\"data row10 col5\" >0.0981</td>\n",
       "      <td id=\"T_ac4f7_row10_col6\" class=\"data row10 col6\" >0.6333</td>\n",
       "      <td id=\"T_ac4f7_row10_col7\" class=\"data row10 col7\" >0.4567</td>\n",
       "    </tr>\n",
       "    <tr>\n",
       "      <th id=\"T_ac4f7_level0_row11\" class=\"row_heading level0 row11\" >Std</th>\n",
       "      <td id=\"T_ac4f7_row11_col0\" class=\"data row11 col0\" >0.1108</td>\n",
       "      <td id=\"T_ac4f7_row11_col1\" class=\"data row11 col1\" >0.1387</td>\n",
       "      <td id=\"T_ac4f7_row11_col2\" class=\"data row11 col2\" >0.1618</td>\n",
       "      <td id=\"T_ac4f7_row11_col3\" class=\"data row11 col3\" >0.1460</td>\n",
       "      <td id=\"T_ac4f7_row11_col4\" class=\"data row11 col4\" >0.2152</td>\n",
       "      <td id=\"T_ac4f7_row11_col5\" class=\"data row11 col5\" >0.2218</td>\n",
       "      <td id=\"T_ac4f7_row11_col6\" class=\"data row11 col6\" >0.1727</td>\n",
       "      <td id=\"T_ac4f7_row11_col7\" class=\"data row11 col7\" >0.1814</td>\n",
       "    </tr>\n",
       "  </tbody>\n",
       "</table>\n"
      ],
      "text/plain": [
       "<pandas.io.formats.style.Styler at 0x3119af040>"
      ]
     },
     "metadata": {},
     "output_type": "display_data"
    },
    {
     "data": {
      "text/html": [],
      "text/plain": [
       "<IPython.core.display.HTML object>"
      ]
     },
     "metadata": {},
     "output_type": "display_data"
    },
    {
     "name": "stdout",
     "output_type": "stream",
     "text": [
      "Fitting 10 folds for each of 20 candidates, totalling 200 fits\n"
     ]
    }
   ],
   "source": [
    "tuned = tune_model(\n",
    "        estimator = mlp,       # Model to tune\n",
    "        choose_better = True,    # Return the best possible model\n",
    "      #   verbose = True           # Display data\n",
    "        n_iter = 20,             # Try n searches for better parameters\n",
    "        optimize = 'Accuracy',      # The metric to optimize\n",
    ")\n",
    "\n",
    "plot_model(tuned, plot_kwargs = {'percent' : True} , plot = 'confusion_matrix')"
   ]
  },
  {
   "cell_type": "code",
   "execution_count": 58,
   "metadata": {},
   "outputs": [],
   "source": [
    "blender = blend_models(top3, verbose=False, optimize='Sensitivity')\n",
    "stacker = stack_models(top3, verbose=False, optimize='Sensitivity')\n",
    "tuned_top3 = [tune_model(i, verbose=False, optimize='Sensitivity') for i in top3]\n",
    "# tuned_top3 = [tune(i) for i in top3]\n",
    "blender_tuned = blend_models(tuned_top3, verbose=False, optimize='Sensitivity')\n",
    "stacker_tuned = stack_models(tuned_top3, verbose=False, optimize='Sensitivity')"
   ]
  },
  {
   "cell_type": "code",
   "execution_count": null,
   "metadata": {},
   "outputs": [],
   "source": [
    "plot_model(blender_tuned, 'confusion_matrix')\n",
    "plot_model(stacker_tuned, 'confusion_matrix')\n",
    "plot_model(blender, 'confusion_matrix')\n",
    "plot_model(stacker, 'confusion_matrix')\n",
    "plot_model(tuned_top3[0], 'confusion_matrix')\n",
    "plot_model(tuned_top3[1], 'confusion_matrix')\n",
    "plot_model(tuned_top3[2], 'confusion_matrix')"
   ]
  },
  {
   "cell_type": "code",
   "execution_count": null,
   "metadata": {},
   "outputs": [],
   "source": [
    "tuned_blender_tuned = tune(blender_tuned)\n",
    "# tuned_stacker_tuned = tune(stacker_tuned)\n",
    "# tuned_blender = tune(blender)\n",
    "# tuned_stacker = tune(stacker)\n",
    "# tuned_best = tune(best)"
   ]
  },
  {
   "cell_type": "code",
   "execution_count": null,
   "metadata": {},
   "outputs": [],
   "source": [
    "evaluate_model(top3[1])\n",
    "# evaluate_model(blender_tuned)\n",
    "# evaluate_model(stacker_tuned)\n",
    "# evaluate_model(blender)\n",
    "# evaluate_model(stacker)\n",
    "# evaluate_model(best)"
   ]
  },
  {
   "cell_type": "code",
   "execution_count": null,
   "metadata": {},
   "outputs": [],
   "source": [
    "best = blender\n",
    "evaluate_model(best)"
   ]
  },
  {
   "cell_type": "code",
   "execution_count": null,
   "metadata": {},
   "outputs": [],
   "source": [
    "predict_model(best)"
   ]
  },
  {
   "cell_type": "markdown",
   "metadata": {},
   "source": [
    "#### Retrain the model on the whole dataset"
   ]
  },
  {
   "cell_type": "code",
   "execution_count": null,
   "metadata": {},
   "outputs": [],
   "source": [
    "finalize_model(best)"
   ]
  },
  {
   "cell_type": "markdown",
   "metadata": {},
   "source": [
    "#### Save model and data"
   ]
  },
  {
   "cell_type": "code",
   "execution_count": null,
   "metadata": {},
   "outputs": [],
   "source": [
    "session_name = 'blender-lightgbm-catboost-xgboost'"
   ]
  },
  {
   "cell_type": "code",
   "execution_count": null,
   "metadata": {},
   "outputs": [],
   "source": [
    "models_folder = Path(os.getcwd()+'/models')\n",
    "\n",
    "session_folder = models_folder/session_name\n",
    "\n",
    "if not os.path.exists(session_folder): # Create directory if doesn't exist\n",
    "    os.mkdir(session_folder)\n",
    "\n",
    "# Save train datasets\n",
    "get_config('X_train').to_pickle(session_folder/'X_train.pkl')\n",
    "get_config('X_train_transformed').to_pickle(session_folder/'X_train_transformed.pkl')\n",
    "\n",
    "# Save test datasets\n",
    "get_config('X_test').to_pickle(session_folder/'X_test.pkl')\n",
    "get_config('X_test_transformed').to_pickle(session_folder/'X_test_transformed.pkl')\n",
    "\n",
    "# Save the model pipeline to a pickle file\n",
    "save_model(best, rf'{session_folder}/model_{session_name}')"
   ]
  },
  {
   "cell_type": "code",
   "execution_count": null,
   "metadata": {},
   "outputs": [],
   "source": [
    "dashboard(best)"
   ]
  }
 ],
 "metadata": {
  "kernelspec": {
   "display_name": "pyradiomics",
   "language": "python",
   "name": "python3"
  },
  "language_info": {
   "codemirror_mode": {
    "name": "ipython",
    "version": 3
   },
   "file_extension": ".py",
   "mimetype": "text/x-python",
   "name": "python",
   "nbconvert_exporter": "python",
   "pygments_lexer": "ipython3",
   "version": "3.8.18"
  }
 },
 "nbformat": 4,
 "nbformat_minor": 0
}
